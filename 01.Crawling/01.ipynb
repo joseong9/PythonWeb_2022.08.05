{
  "cells": [
    {
      "cell_type": "code",
      "execution_count": 1,
      "metadata": {
        "id": "klw7thE2kb43"
      },
      "outputs": [],
      "source": [
        "from bs4 import BeautifulSoup\n",
        "with open('example.html') as f:\n",
        "  soup=BeautifulSoup(f, 'html.parser')"
      ]
    },
    {
      "cell_type": "code",
      "execution_count": 2,
      "metadata": {
        "colab": {
          "base_uri": "https://localhost:8080/"
        },
        "id": "oBhxo46wlOjO",
        "outputId": "5b04ac90-ae3b-4a85-b1a3-c79383757f15"
      },
      "outputs": [
        {
          "data": {
            "text/plain": [
              "<div>\n",
              "<p>a</p>\n",
              "<p>b</p>\n",
              "<p>c</p>\n",
              "</div>"
            ]
          },
          "execution_count": 2,
          "metadata": {},
          "output_type": "execute_result"
        }
      ],
      "source": [
        "#첫번째 div 태그 내용\n",
        "first_div=soup.find('div')\n",
        "first_div"
      ]
    },
    {
      "cell_type": "code",
      "execution_count": 3,
      "metadata": {
        "colab": {
          "base_uri": "https://localhost:8080/"
        },
        "id": "WqdlCAyDpYWO",
        "outputId": "c9a306bb-1ab2-4e85-95a8-ce96a807e42d"
      },
      "outputs": [
        {
          "data": {
            "text/plain": [
              "[<p>a</p>, <p>b</p>, <p>c</p>]"
            ]
          },
          "execution_count": 3,
          "metadata": {},
          "output_type": "execute_result"
        }
      ],
      "source": [
        "#해당되는 태그를 모두 가져오기\n",
        "ps=first_div.find_all('p')\n",
        "ps"
      ]
    },
    {
      "cell_type": "code",
      "execution_count": 4,
      "metadata": {
        "colab": {
          "base_uri": "https://localhost:8080/"
        },
        "id": "MOCQ-V-4pwsQ",
        "outputId": "73e202d8-61b3-43bb-ee36-5fc63594dc09"
      },
      "outputs": [
        {
          "name": "stdout",
          "output_type": "stream",
          "text": [
            "<p>a</p>\n",
            "<p>b</p>\n",
            "<p>c</p>\n"
          ]
        }
      ],
      "source": [
        "for ptag in ps:\n",
        "  print(ptag)"
      ]
    },
    {
      "cell_type": "code",
      "execution_count": 5,
      "metadata": {
        "colab": {
          "base_uri": "https://localhost:8080/"
        },
        "id": "_1_fkpdLp7yi",
        "outputId": "3972d897-1508-404a-e85d-05b435bd67a7"
      },
      "outputs": [
        {
          "data": {
            "text/plain": [
              "<p>b</p>"
            ]
          },
          "execution_count": 5,
          "metadata": {},
          "output_type": "execute_result"
        }
      ],
      "source": [
        "ps[1]"
      ]
    },
    {
      "cell_type": "code",
      "execution_count": 17,
      "metadata": {
        "id": "vJT2pFEQqPsa"
      },
      "outputs": [],
      "source": [
        "# class 명이 ex_class인 태그의 정보를 가져오기\n",
        "second_div=soup.select_one('.ex_class')\n",
        "second_div"
      ]
    },
    {
      "cell_type": "code",
      "execution_count": 14,
      "metadata": {
        "id": "W9c6Lww2rH-6"
      },
      "outputs": [],
      "source": [
        "#id 값이 ex_id인 태그의 정보를 가져오기\n",
        "third_div=soup.select_one('#ed_id')\n",
        "third_div"
      ]
    },
    {
      "cell_type": "code",
      "execution_count": 15,
      "metadata": {
        "colab": {
          "base_uri": "https://localhost:8080/"
        },
        "id": "6cwCAEserXl_",
        "outputId": "58082c0d-2d96-4daa-8062-06e021d76387"
      },
      "outputs": [
        {
          "data": {
            "text/plain": [
              "3"
            ]
          },
          "execution_count": 15,
          "metadata": {},
          "output_type": "execute_result"
        }
      ],
      "source": [
        "all_div=soup.select('div')\n",
        "len(all_div)"
      ]
    },
    {
      "cell_type": "code",
      "execution_count": 18,
      "metadata": {
        "colab": {
          "base_uri": "https://localhost:8080/"
        },
        "id": "deL6XGI_reZV",
        "outputId": "a553d080-2daf-4d0f-f29d-56f9f894cc29"
      },
      "outputs": [
        {
          "data": {
            "text/plain": [
              "3"
            ]
          },
          "execution_count": 18,
          "metadata": {},
          "output_type": "execute_result"
        }
      ],
      "source": [
        "all_divs=soup.select('div')\n",
        "len(all_divs)"
      ]
    },
    {
      "cell_type": "code",
      "execution_count": 19,
      "metadata": {
        "colab": {
          "base_uri": "https://localhost:8080/"
        },
        "id": "3dhVh6dYsLER",
        "outputId": "39832b1d-f73c-4cb6-d9ec-771896781ae8"
      },
      "outputs": [
        {
          "data": {
            "text/plain": [
              "11"
            ]
          },
          "execution_count": 19,
          "metadata": {},
          "output_type": "execute_result"
        }
      ],
      "source": [
        "#모든 p 태그\n",
        "all_ps=soup.find_all('p')\n",
        "len(all_ps)"
      ]
    },
    {
      "cell_type": "code",
      "execution_count": 21,
      "metadata": {
        "colab": {
          "base_uri": "https://localhost:8080/"
        },
        "id": "qGWDDShssTl-",
        "outputId": "025a7a6f-b3bc-440a-a2fb-8f1a80f0cc61"
      },
      "outputs": [
        {
          "data": {
            "text/plain": [
              "9"
            ]
          },
          "execution_count": 21,
          "metadata": {},
          "output_type": "execute_result"
        }
      ],
      "source": [
        "#div 자식관계\n",
        "div_ps=soup.select('div p')\n",
        "len(div_ps)"
      ]
    },
    {
      "cell_type": "code",
      "execution_count": 22,
      "metadata": {
        "colab": {
          "base_uri": "https://localhost:8080/",
          "height": 36
        },
        "id": "1ReVuMiWstOr",
        "outputId": "83db6978-eac6-4fd1-e8ac-81154ffb734e"
      },
      "outputs": [
        {
          "data": {
            "application/vnd.google.colaboratory.intrinsic+json": {
              "type": "string"
            },
            "text/plain": [
              "'This is a heading'"
            ]
          },
          "execution_count": 22,
          "metadata": {},
          "output_type": "execute_result"
        }
      ],
      "source": [
        "h1_info=soup.find('h1').get_text()\n",
        "h1_info"
      ]
    },
    {
      "cell_type": "code",
      "execution_count": 24,
      "metadata": {
        "id": "BV9RDuIatMX1"
      },
      "outputs": [],
      "source": [
        "first_div.string"
      ]
    },
    {
      "cell_type": "code",
      "execution_count": 25,
      "metadata": {
        "colab": {
          "base_uri": "https://localhost:8080/",
          "height": 36
        },
        "id": "Qto45DHWtZDb",
        "outputId": "4b2392d7-a8e3-45df-b167-c3bd3a7f27f7"
      },
      "outputs": [
        {
          "data": {
            "application/vnd.google.colaboratory.intrinsic+json": {
              "type": "string"
            },
            "text/plain": [
              "'\\n        Naver'"
            ]
          },
          "execution_count": 25,
          "metadata": {},
          "output_type": "execute_result"
        }
      ],
      "source": [
        "soup.find('a').get_text()"
      ]
    },
    {
      "cell_type": "code",
      "execution_count": 26,
      "metadata": {
        "colab": {
          "base_uri": "https://localhost:8080/",
          "height": 36
        },
        "id": "Ip2sjiqUtp__",
        "outputId": "e45007c3-6f1e-4db9-ac57-e5e716325a73"
      },
      "outputs": [
        {
          "data": {
            "application/vnd.google.colaboratory.intrinsic+json": {
              "type": "string"
            },
            "text/plain": [
              "'www.naver.com'"
            ]
          },
          "execution_count": 26,
          "metadata": {},
          "output_type": "execute_result"
        }
      ],
      "source": [
        "#속성값\n",
        "soup.find('a')['href']"
      ]
    },
    {
      "cell_type": "code",
      "execution_count": null,
      "metadata": {},
      "outputs": [
        {
          "ename": "",
          "evalue": "",
          "output_type": "error",
          "traceback": [
            "\u001b[1;31m커널을 시작하지 못했습니다. \n",
            "\u001b[1;31mc:\\Users\\조성근\\AppData\\Local\\Programs\\Python\\Python310\\lib\\site-packages\\traitlets\\traitlets.py:2392: FutureWarning: Supporting extra quotes around strings is deprecated in traitlets 5.0. You can use 'hmac-sha256' instead of '\"hmac-sha256\"' if you require traitlets >=5.\n",
            "\u001b[1;31m  warn(\n",
            "\u001b[1;31mc:\\Users\\조성근\\AppData\\Local\\Programs\\Python\\Python310\\lib\\site-packages\\traitlets\\traitlets.py:2346: FutureWarning: Supporting extra quotes around Bytes is deprecated in traitlets 5.0. Use 'a4cc5a1a-94fc-4c82-a4fd-6f418eada695' instead of 'b\"a4cc5a1a-94fc-4c82-a4fd-6f418eada695\"'.\n",
            "\u001b[1;31m  warn(\n",
            "\u001b[1;31mBad file descriptor (C:\\projects\\libzmq\\src\\epoll.cpp:100). \n",
            "자세한 내용은 Jupyter <a href='command:jupyter.viewOutput'>로그</a>를 참조하세요."
          ]
        }
      ],
      "source": [
        "python for vs-code"
      ]
    },
    {
      "cell_type": "code",
      "execution_count": null,
      "metadata": {},
      "outputs": [
        {
          "ename": "",
          "evalue": "",
          "output_type": "error",
          "traceback": [
            "\u001b[1;31m커널을 시작하지 못했습니다. \n",
            "\u001b[1;31mc:\\Users\\조성근\\AppData\\Local\\Programs\\Python\\Python310\\lib\\site-packages\\traitlets\\traitlets.py:2392: FutureWarning: Supporting extra quotes around strings is deprecated in traitlets 5.0. You can use 'hmac-sha256' instead of '\"hmac-sha256\"' if you require traitlets >=5.\n",
            "\u001b[1;31m  warn(\n",
            "\u001b[1;31mc:\\Users\\조성근\\AppData\\Local\\Programs\\Python\\Python310\\lib\\site-packages\\traitlets\\traitlets.py:2346: FutureWarning: Supporting extra quotes around Bytes is deprecated in traitlets 5.0. Use '477ef047-598e-4f53-95de-06bdcdf1fcca' instead of 'b\"477ef047-598e-4f53-95de-06bdcdf1fcca\"'.\n",
            "\u001b[1;31m  warn(\n",
            "\u001b[1;31mBad file descriptor (C:\\projects\\libzmq\\src\\epoll.cpp:100). \n",
            "자세한 내용은 Jupyter <a href='command:jupyter.viewOutput'>로그</a>를 참조하세요."
          ]
        }
      ],
      "source": [
        "ipykernel"
      ]
    },
    {
      "cell_type": "code",
      "execution_count": null,
      "metadata": {},
      "outputs": [
        {
          "ename": "",
          "evalue": "",
          "output_type": "error",
          "traceback": [
            "\u001b[1;31m커널을 시작하지 못했습니다. \n",
            "\u001b[1;31mc:\\Users\\조성근\\AppData\\Local\\Programs\\Python\\Python310\\lib\\site-packages\\traitlets\\traitlets.py:2392: FutureWarning: Supporting extra quotes around strings is deprecated in traitlets 5.0. You can use 'hmac-sha256' instead of '\"hmac-sha256\"' if you require traitlets >=5.\n",
            "\u001b[1;31m  warn(\n",
            "\u001b[1;31mc:\\Users\\조성근\\AppData\\Local\\Programs\\Python\\Python310\\lib\\site-packages\\traitlets\\traitlets.py:2346: FutureWarning: Supporting extra quotes around Bytes is deprecated in traitlets 5.0. Use '8e74dbfb-e55b-40fc-81a1-b0e2ca240710' instead of 'b\"8e74dbfb-e55b-40fc-81a1-b0e2ca240710\"'.\n",
            "\u001b[1;31m  warn(\n",
            "\u001b[1;31mBad file descriptor (C:\\projects\\libzmq\\src\\epoll.cpp:100). \n",
            "자세한 내용은 Jupyter <a href='command:jupyter.viewOutput'>로그</a>를 참조하세요."
          ]
        }
      ],
      "source": [
        "base(python 3.9.12)"
      ]
    }
  ],
  "metadata": {
    "colab": {
      "name": "01.ipynb",
      "provenance": []
    },
    "kernelspec": {
      "display_name": "Python 3.10.5 64-bit (system)",
      "language": "python",
      "name": "python3"
    },
    "language_info": {
      "name": "python",
      "version": "3.10.5"
    },
    "vscode": {
      "interpreter": {
        "hash": "7d961d276fa6b7489d91208816f2474cc35e9ebd642943d689d934346381b88a"
      }
    }
  },
  "nbformat": 4,
  "nbformat_minor": 0
}
