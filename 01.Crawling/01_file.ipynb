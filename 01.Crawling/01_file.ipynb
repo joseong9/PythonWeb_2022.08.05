{
  "nbformat": 4,
  "nbformat_minor": 0,
  "metadata": {
    "colab": {
      "name": "01_file.ipynb",
      "provenance": [],
      "collapsed_sections": []
    },
    "kernelspec": {
      "name": "python3",
      "display_name": "Python 3"
    },
    "language_info": {
      "name": "python"
    }
  },
  "cells": [
    {
      "cell_type": "markdown",
      "source": [
        "# HTML 파일 열어서 원하는 정보 가져오기"
      ],
      "metadata": {
        "id": "c7AOjQT4kqOy"
      }
    },
    {
      "cell_type": "code",
      "execution_count": 1,
      "metadata": {
        "id": "3_sNz0S4x30L"
      },
      "outputs": [],
      "source": [
        "from bs4 import BeautifulSoup\n",
        "with open('example.html') as f:\n",
        "    soup = BeautifulSoup(f, 'html.parser')"
      ]
    },
    {
      "cell_type": "markdown",
      "source": [
        "### 1. 태그 정보: find(), find_all()"
      ],
      "metadata": {
        "id": "G3lw2qwhqIEb"
      }
    },
    {
      "cell_type": "code",
      "source": [
        "# 첫번째 div 태그의 내용을 가져오기\n",
        "first_div = soup.find('div')\n",
        "first_div"
      ],
      "metadata": {
        "colab": {
          "base_uri": "https://localhost:8080/"
        },
        "id": "wo0P8t6QlEq2",
        "outputId": "2673bfd9-d2b7-4e9e-a48f-bd366f700b1f"
      },
      "execution_count": 2,
      "outputs": [
        {
          "output_type": "execute_result",
          "data": {
            "text/plain": [
              "<div>\n",
              "<p>a</p>\n",
              "<p>b</p>\n",
              "<p>c</p>\n",
              "</div>"
            ]
          },
          "metadata": {},
          "execution_count": 2
        }
      ]
    },
    {
      "cell_type": "code",
      "source": [
        "# 해당되는 태그를 모두 가져오기\n",
        "ps = first_div.find_all('p')\n",
        "ps"
      ],
      "metadata": {
        "colab": {
          "base_uri": "https://localhost:8080/"
        },
        "id": "89C0cSM1l8yB",
        "outputId": "1fbaf24b-d60f-49e7-c883-573d4a386f43"
      },
      "execution_count": 3,
      "outputs": [
        {
          "output_type": "execute_result",
          "data": {
            "text/plain": [
              "[<p>a</p>, <p>b</p>, <p>c</p>]"
            ]
          },
          "metadata": {},
          "execution_count": 3
        }
      ]
    },
    {
      "cell_type": "code",
      "source": [
        "for ptag in ps:\n",
        "    print(ptag)"
      ],
      "metadata": {
        "colab": {
          "base_uri": "https://localhost:8080/"
        },
        "id": "pcwKpCyMpvnJ",
        "outputId": "a3f1dce3-79ee-436b-8beb-28bba52d69a6"
      },
      "execution_count": 4,
      "outputs": [
        {
          "output_type": "stream",
          "name": "stdout",
          "text": [
            "<p>a</p>\n",
            "<p>b</p>\n",
            "<p>c</p>\n"
          ]
        }
      ]
    },
    {
      "cell_type": "code",
      "source": [
        "ps[1]"
      ],
      "metadata": {
        "colab": {
          "base_uri": "https://localhost:8080/"
        },
        "id": "x-Az1RBYp45Y",
        "outputId": "17d5d9a5-16c1-4ea2-a31c-f9c3e3f2d541"
      },
      "execution_count": 5,
      "outputs": [
        {
          "output_type": "execute_result",
          "data": {
            "text/plain": [
              "<p>b</p>"
            ]
          },
          "metadata": {},
          "execution_count": 5
        }
      ]
    },
    {
      "cell_type": "markdown",
      "source": [
        "### 2. CSS Selector: select_one(), select()"
      ],
      "metadata": {
        "id": "9tC24iy1qPZh"
      }
    },
    {
      "cell_type": "code",
      "source": [
        "# class 명이 ex_class인 태그의 정보를 가져오기\n",
        "second_div = soup.select_one('.ex_class')\n",
        "second_div"
      ],
      "metadata": {
        "colab": {
          "base_uri": "https://localhost:8080/"
        },
        "id": "cWlQ1CKIqAwp",
        "outputId": "fbf965bd-1991-4731-c508-1f1bcc8b42fd"
      },
      "execution_count": 6,
      "outputs": [
        {
          "output_type": "execute_result",
          "data": {
            "text/plain": [
              "<div class=\"ex_class\">\n",
              "<p></p>\n",
              "<p></p>\n",
              "<p></p>\n",
              "</div>"
            ]
          },
          "metadata": {},
          "execution_count": 6
        }
      ]
    },
    {
      "cell_type": "code",
      "source": [
        "# id 값이 ex_id인 태그의 정보를 가져오기\n",
        "third_div = soup.select_one('#ex_id')\n",
        "third_div"
      ],
      "metadata": {
        "colab": {
          "base_uri": "https://localhost:8080/"
        },
        "id": "BpoysdmOq1jq",
        "outputId": "e1ad29cb-cfe4-49cd-847e-03df8937b15b"
      },
      "execution_count": 7,
      "outputs": [
        {
          "output_type": "execute_result",
          "data": {
            "text/plain": [
              "<div id=\"ex_id\">\n",
              "<p></p>\n",
              "<p></p>\n",
              "<p></p>\n",
              "</div>"
            ]
          },
          "metadata": {},
          "execution_count": 7
        }
      ]
    },
    {
      "cell_type": "code",
      "source": [
        "# div 태그를 모두 가져오기\n",
        "all_divs = soup.select('div')\n",
        "len(all_divs)"
      ],
      "metadata": {
        "colab": {
          "base_uri": "https://localhost:8080/"
        },
        "id": "88AwCs_srLhK",
        "outputId": "02643600-2e5c-41df-8849-499e33b66bce"
      },
      "execution_count": 8,
      "outputs": [
        {
          "output_type": "execute_result",
          "data": {
            "text/plain": [
              "3"
            ]
          },
          "metadata": {},
          "execution_count": 8
        }
      ]
    },
    {
      "cell_type": "code",
      "source": [
        "# 모든 p 태그\n",
        "all_ps = soup.find_all('p')\n",
        "len(all_ps)"
      ],
      "metadata": {
        "colab": {
          "base_uri": "https://localhost:8080/"
        },
        "id": "awZihKAUrdYR",
        "outputId": "55a6ff83-e38e-46d4-dbf8-3e8c339fb7fb"
      },
      "execution_count": 9,
      "outputs": [
        {
          "output_type": "execute_result",
          "data": {
            "text/plain": [
              "11"
            ]
          },
          "metadata": {},
          "execution_count": 9
        }
      ]
    },
    {
      "cell_type": "code",
      "source": [
        "# div의 자식인 p 태그\n",
        "div_ps = soup.select('div p')\n",
        "len(div_ps)"
      ],
      "metadata": {
        "colab": {
          "base_uri": "https://localhost:8080/"
        },
        "id": "yu7g9xCwsSyK",
        "outputId": "6b01ed17-fb56-44c0-9166-6dba1b3dbb5d"
      },
      "execution_count": 11,
      "outputs": [
        {
          "output_type": "execute_result",
          "data": {
            "text/plain": [
              "9"
            ]
          },
          "metadata": {},
          "execution_count": 11
        }
      ]
    },
    {
      "cell_type": "markdown",
      "source": [
        "### 3. 결과"
      ],
      "metadata": {
        "id": "-znDo3festJa"
      }
    },
    {
      "cell_type": "code",
      "source": [
        "# 태그 안의 내용\n",
        "h1_info = soup.find('h1').get_text()\n",
        "h1_info"
      ],
      "metadata": {
        "colab": {
          "base_uri": "https://localhost:8080/",
          "height": 36
        },
        "id": "JaEGbWWXsdaJ",
        "outputId": "0fa82b8e-ac2e-4341-eba0-1776214ae07c"
      },
      "execution_count": 13,
      "outputs": [
        {
          "output_type": "execute_result",
          "data": {
            "text/plain": [
              "'This is a heading.'"
            ],
            "application/vnd.google.colaboratory.intrinsic+json": {
              "type": "string"
            }
          },
          "metadata": {},
          "execution_count": 13
        }
      ]
    },
    {
      "cell_type": "code",
      "source": [
        "soup.find('h1').string"
      ],
      "metadata": {
        "colab": {
          "base_uri": "https://localhost:8080/",
          "height": 36
        },
        "id": "2zCQvOnas7m7",
        "outputId": "67aee95e-ec03-4f70-dd69-0192625af737"
      },
      "execution_count": 14,
      "outputs": [
        {
          "output_type": "execute_result",
          "data": {
            "text/plain": [
              "'This is a heading.'"
            ],
            "application/vnd.google.colaboratory.intrinsic+json": {
              "type": "string"
            }
          },
          "metadata": {},
          "execution_count": 14
        }
      ]
    },
    {
      "cell_type": "code",
      "source": [
        "soup.find('a').get_text()"
      ],
      "metadata": {
        "colab": {
          "base_uri": "https://localhost:8080/",
          "height": 36
        },
        "id": "KFnyECg3tXEZ",
        "outputId": "43d6d6c4-fc91-4586-c371-dc11622bcca4"
      },
      "execution_count": 17,
      "outputs": [
        {
          "output_type": "execute_result",
          "data": {
            "text/plain": [
              "'Naver'"
            ],
            "application/vnd.google.colaboratory.intrinsic+json": {
              "type": "string"
            }
          },
          "metadata": {},
          "execution_count": 17
        }
      ]
    },
    {
      "cell_type": "code",
      "source": [
        "# 속성값\n",
        "soup.find('a')['href']"
      ],
      "metadata": {
        "colab": {
          "base_uri": "https://localhost:8080/",
          "height": 36
        },
        "id": "TYDuDKVItpNX",
        "outputId": "26d1e06a-7838-405f-8a3d-3e346dfd8dc6"
      },
      "execution_count": 18,
      "outputs": [
        {
          "output_type": "execute_result",
          "data": {
            "text/plain": [
              "'www.naver.com'"
            ],
            "application/vnd.google.colaboratory.intrinsic+json": {
              "type": "string"
            }
          },
          "metadata": {},
          "execution_count": 18
        }
      ]
    },
    {
      "cell_type": "code",
      "source": [
        ""
      ],
      "metadata": {
        "id": "iFLFW7urtvdh"
      },
      "execution_count": null,
      "outputs": []
    }
  ]
}