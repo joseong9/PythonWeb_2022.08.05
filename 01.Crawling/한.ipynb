{
  "cells": [
    {
      "cell_type": "code",
      "execution_count": 3,
      "metadata": {
        "id": "2WOyPtw9NpnV"
      },
      "outputs": [],
      "source": [
        "import requests\n",
        "import pandas as pd\n",
        "from bs4 import BeautifulSoup\n",
        "from tqdm.notebook import tqdm"
      ]
    },
    {
      "cell_type": "code",
      "execution_count": 10,
      "metadata": {
        "id": "aCc96KTvN4zE"
      },
      "outputs": [],
      "source": [
        "base_url = 'https://www.hanbit.co.kr'\n",
        "sub_url = '/academy/books/new_book_list.html'\n",
        "url = base_url + sub_url + '?page=' + str(1)\n",
        "req =requests.get(url)\n",
        "soup = BeautifulSoup(req.text, 'html.parser')"
      ]
    },
    {
      "cell_type": "code",
      "execution_count": 11,
      "metadata": {
        "colab": {
          "base_uri": "https://localhost:8080/"
        },
        "id": "c1Vqf_odOEC7",
        "outputId": "557c090c-d7a4-42c4-ff7b-e6c6d3f5bd24"
      },
      "outputs": [
        {
          "data": {
            "text/plain": [
              "20"
            ]
          },
          "execution_count": 11,
          "metadata": {},
          "output_type": "execute_result"
        }
      ],
      "source": [
        "lis = soup.select('li.sub_book_list')\n",
        "len(lis)"
      ]
    },
    {
      "cell_type": "code",
      "execution_count": 16,
      "metadata": {
        "colab": {
          "base_uri": "https://localhost:8080/",
          "height": 36
        },
        "id": "CUENJQbIR8RP",
        "outputId": "de2a4a33-0075-4e6a-d3a2-4aa296acc460"
      },
      "outputs": [
        {
          "data": {
            "application/vnd.google.colaboratory.intrinsic+json": {
              "type": "string"
            },
            "text/plain": [
              "'/academy/books/book_view.html?p_code=B8672666879'"
            ]
          },
          "execution_count": 16,
          "metadata": {},
          "output_type": "execute_result"
        }
      ],
      "source": [
        "li = lis[0]\n",
        "href = li.find('a')['href']\n",
        "href"
      ]
    },
    {
      "cell_type": "code",
      "execution_count": 19,
      "metadata": {
        "id": "-ACpAv-bTJd3"
      },
      "outputs": [],
      "source": [
        "sub_req = requests.get(base_url + href)\n",
        "sub_soup = BeautifulSoup(sub_req.text, 'html.parser')"
      ]
    },
    {
      "cell_type": "code",
      "execution_count": 21,
      "metadata": {
        "colab": {
          "base_uri": "https://localhost:8080/"
        },
        "id": "uv9HmHHNUhDh",
        "outputId": "c6d90922-341e-44f8-8e1c-79ccb9a7aeb4"
      },
      "outputs": [
        {
          "data": {
            "text/plain": [
              "<h3>STEM CookBook, 문제 해결력을 키우는 기계설계</h3>"
            ]
          },
          "execution_count": 21,
          "metadata": {},
          "output_type": "execute_result"
        }
      ],
      "source": [
        "title = sub_soup.select_one('.store_product_info_box > h3')\n",
        "title"
      ]
    },
    {
      "cell_type": "code",
      "execution_count": 25,
      "metadata": {
        "id": "UTCbK0BETtH5"
      },
      "outputs": [],
      "source": [
        "info_lis = sub_soup.select('.info_list > li')\n",
        "info_dict = {}\n",
        "for li in info_lis:\n",
        "  key = li.find('strong').get_text().split(' ')[0]\n",
        "  val = li.find('span').get_text().strip()\n",
        "  info_dict[key] = val"
      ]
    },
    {
      "cell_type": "code",
      "execution_count": 26,
      "metadata": {
        "colab": {
          "base_uri": "https://localhost:8080/"
        },
        "id": "gyZ__XfiU2mS",
        "outputId": "e15b3b5b-474f-4c39-8a67-3c91aed0b41d"
      },
      "outputs": [
        {
          "data": {
            "text/plain": [
              "{'ISBN': '9791156646150',\n",
              " '물류코드': '4615',\n",
              " '저자': '이상범',\n",
              " '출간': '2022-08-05',\n",
              " '페이지': '680 쪽'}"
            ]
          },
          "execution_count": 26,
          "metadata": {},
          "output_type": "execute_result"
        }
      ],
      "source": [
        "info_dict"
      ]
    },
    {
      "cell_type": "code",
      "execution_count": 27,
      "metadata": {
        "colab": {
          "base_uri": "https://localhost:8080/"
        },
        "id": "-zjV7LJ5a8Y1",
        "outputId": "f889b389-468c-4c49-88db-01492f674430"
      },
      "outputs": [
        {
          "data": {
            "text/plain": [
              "('이상범', '-', '2022-08-05', 680)"
            ]
          },
          "execution_count": 27,
          "metadata": {},
          "output_type": "execute_result"
        }
      ],
      "source": [
        "author = info_dict['저자']\n",
        "try:\n",
        "  translator = info_dict['번역']\n",
        "except:\n",
        "  translator = '-'\n",
        "data = info_dict['출간']\n",
        "page = int(info_dict['페이지'].split(' ')[0].replace(',',''))\n",
        "author, translator, data, page"
      ]
    },
    {
      "cell_type": "code",
      "execution_count": 28,
      "metadata": {
        "colab": {
          "base_uri": "https://localhost:8080/"
        },
        "id": "YAAirrJLcCMx",
        "outputId": "fc9a9e6c-5a37-47fc-f145-30bedcb52350"
      },
      "outputs": [
        {
          "data": {
            "text/plain": [
              "34000"
            ]
          },
          "execution_count": 28,
          "metadata": {},
          "output_type": "execute_result"
        }
      ],
      "source": [
        "price = int(sub_soup.select_one('.pbr > strong').get_text().replace(',',''))\n",
        "price"
      ]
    },
    {
      "cell_type": "code",
      "execution_count": 29,
      "metadata": {
        "id": "HGU48zsmczEd"
      },
      "outputs": [],
      "source": [
        "lines = []\n",
        "for li in lis:\n",
        "  href = li.find('a')['href']\n",
        "  sub_req = requests.get(base_url + href)\n",
        "  sub_soup = BeautifulSoup(sub_req.text, 'html.parser')\n",
        "  title = sub_soup.select_one('.store_product_info_box > h3')\n",
        "  info_lis = sub_soup.select('.info_list > li')\n",
        "  info_dict = {}\n",
        "  for li in info_lis:\n",
        "    key = li.find('strong').get_text().split(' ')[0]\n",
        "    val = li.find('span').get_text().strip()\n",
        "    info_dict[key] = val\n",
        "  author = info_dict['저자']\n",
        "  try:\n",
        "    translator = info_dict['번역']\n",
        "  except:\n",
        "    translator = '-'\n",
        "  data = info_dict['출간']\n",
        "  page = int(info_dict['페이지'].split(' ')[0].replace(',',''))\n",
        "  price = int(sub_soup.select_one('.pbr > strong').get_text().replace(',',''))\n",
        "  lines.append([title, author, translator, data, page, price])"
      ]
    },
    {
      "cell_type": "code",
      "execution_count": null,
      "metadata": {
        "id": "Z9FxcDSUd6R-"
      },
      "outputs": [],
      "source": [
        "df = pd.DataFrame(lines, columns=['제목','저자','번역','출간일','페이지','가격'])\n",
        "df"
      ]
    },
    {
      "cell_type": "code",
      "execution_count": 32,
      "metadata": {
        "id": "sTnujRGXeSmW"
      },
      "outputs": [],
      "source": [
        "lines = []\n",
        "for page in range(1,11):\n",
        "  url = base_url + sub_url + '?page=' + str(1)\n",
        "  req = requests.get(url)\n",
        "  soup = BeautifulSoup(req.text, 'html.parser')\n",
        "  lis = soup.select('li.sub_book_list')\n",
        "\n",
        "  for li in lis:\n",
        "    href = li.find('a')['href']\n",
        "    sub_req = requests.get(base_url + href)\n",
        "    sub_soup = BeautifulSoup(sub_req.text, 'html.parser')\n",
        "    title = sub_soup.select_one('.store_product_info_box > h3')\n",
        "    info_lis = sub_soup.select('.info_list > li')\n",
        "    info_dict = {}\n",
        "    for li in info_lis:\n",
        "      key = li.find('strong').get_text().split(' ')[0]\n",
        "      val = li.find('span').get_text().strip()\n",
        "      info_dict[key] = val\n",
        "    author = info_dict['저자']\n",
        "    try:\n",
        "      translator = info_dict['번역']\n",
        "    except:\n",
        "      translator = '-'\n",
        "    data = info_dict['출간']\n",
        "    page = int(info_dict['페이지'].split(' ')[0].replace(',',''))\n",
        "    price = int(sub_soup.select_one('.pbr > strong').get_text().replace(',',''))\n",
        "    lines.append([title, author, translator, data, page, price])"
      ]
    },
    {
      "cell_type": "code",
      "execution_count": 34,
      "metadata": {
        "colab": {
          "base_uri": "https://localhost:8080/",
          "height": 206
        },
        "id": "1qE2lrgigGY2",
        "outputId": "99103ef7-dfb5-4c90-89c1-218b482978fe"
      },
      "outputs": [
        {
          "data": {
            "text/html": [
              "\n",
              "  <div id=\"df-8e80d7cd-1845-411b-94bc-3c7c75d7c3e9\">\n",
              "    <div class=\"colab-df-container\">\n",
              "      <div>\n",
              "<style scoped>\n",
              "    .dataframe tbody tr th:only-of-type {\n",
              "        vertical-align: middle;\n",
              "    }\n",
              "\n",
              "    .dataframe tbody tr th {\n",
              "        vertical-align: top;\n",
              "    }\n",
              "\n",
              "    .dataframe thead th {\n",
              "        text-align: right;\n",
              "    }\n",
              "</style>\n",
              "<table border=\"1\" class=\"dataframe\">\n",
              "  <thead>\n",
              "    <tr style=\"text-align: right;\">\n",
              "      <th></th>\n",
              "      <th>제목</th>\n",
              "      <th>저자</th>\n",
              "      <th>번역</th>\n",
              "      <th>출간일</th>\n",
              "      <th>페이지</th>\n",
              "      <th>가격</th>\n",
              "    </tr>\n",
              "  </thead>\n",
              "  <tbody>\n",
              "    <tr>\n",
              "      <th>195</th>\n",
              "      <td>[IT CookBook, UI/UX 디자인 이론과 실무 with 어도비 XD]</td>\n",
              "      <td>이영주</td>\n",
              "      <td>-</td>\n",
              "      <td>2022-05-20</td>\n",
              "      <td>512</td>\n",
              "      <td>30000</td>\n",
              "    </tr>\n",
              "    <tr>\n",
              "      <th>196</th>\n",
              "      <td>[STEM@CookBook, 공학 기초수학(2판)]</td>\n",
              "      <td>함남우</td>\n",
              "      <td>-</td>\n",
              "      <td>2022-05-02</td>\n",
              "      <td>484</td>\n",
              "      <td>22000</td>\n",
              "    </tr>\n",
              "    <tr>\n",
              "      <th>197</th>\n",
              "      <td>[STEM@CookBook, Beer의 정역학과 재료역학(3판)]</td>\n",
              "      <td>Ferdinand P. Beer , E. Russell Johnston, Jr. ,...</td>\n",
              "      <td>김경식 , 박재균 , 오창국 , 이정휘</td>\n",
              "      <td>2022-03-22</td>\n",
              "      <td>772</td>\n",
              "      <td>39000</td>\n",
              "    </tr>\n",
              "    <tr>\n",
              "      <th>198</th>\n",
              "      <td>[STEIN 푸리에 해석학]</td>\n",
              "      <td>ELIAS M. STEIN , RAMI SHAKARCHI</td>\n",
              "      <td>한빛수학교재연구소 , 이상혁(감수)</td>\n",
              "      <td>2022-03-18</td>\n",
              "      <td>348</td>\n",
              "      <td>38000</td>\n",
              "    </tr>\n",
              "    <tr>\n",
              "      <th>199</th>\n",
              "      <td>[미분적분학 : 기초부터 응용까지]</td>\n",
              "      <td>수학교재편찬위원회</td>\n",
              "      <td>-</td>\n",
              "      <td>2022-03-04</td>\n",
              "      <td>680</td>\n",
              "      <td>35000</td>\n",
              "    </tr>\n",
              "  </tbody>\n",
              "</table>\n",
              "</div>\n",
              "      <button class=\"colab-df-convert\" onclick=\"convertToInteractive('df-8e80d7cd-1845-411b-94bc-3c7c75d7c3e9')\"\n",
              "              title=\"Convert this dataframe to an interactive table.\"\n",
              "              style=\"display:none;\">\n",
              "        \n",
              "  <svg xmlns=\"http://www.w3.org/2000/svg\" height=\"24px\"viewBox=\"0 0 24 24\"\n",
              "       width=\"24px\">\n",
              "    <path d=\"M0 0h24v24H0V0z\" fill=\"none\"/>\n",
              "    <path d=\"M18.56 5.44l.94 2.06.94-2.06 2.06-.94-2.06-.94-.94-2.06-.94 2.06-2.06.94zm-11 1L8.5 8.5l.94-2.06 2.06-.94-2.06-.94L8.5 2.5l-.94 2.06-2.06.94zm10 10l.94 2.06.94-2.06 2.06-.94-2.06-.94-.94-2.06-.94 2.06-2.06.94z\"/><path d=\"M17.41 7.96l-1.37-1.37c-.4-.4-.92-.59-1.43-.59-.52 0-1.04.2-1.43.59L10.3 9.45l-7.72 7.72c-.78.78-.78 2.05 0 2.83L4 21.41c.39.39.9.59 1.41.59.51 0 1.02-.2 1.41-.59l7.78-7.78 2.81-2.81c.8-.78.8-2.07 0-2.86zM5.41 20L4 18.59l7.72-7.72 1.47 1.35L5.41 20z\"/>\n",
              "  </svg>\n",
              "      </button>\n",
              "      \n",
              "  <style>\n",
              "    .colab-df-container {\n",
              "      display:flex;\n",
              "      flex-wrap:wrap;\n",
              "      gap: 12px;\n",
              "    }\n",
              "\n",
              "    .colab-df-convert {\n",
              "      background-color: #E8F0FE;\n",
              "      border: none;\n",
              "      border-radius: 50%;\n",
              "      cursor: pointer;\n",
              "      display: none;\n",
              "      fill: #1967D2;\n",
              "      height: 32px;\n",
              "      padding: 0 0 0 0;\n",
              "      width: 32px;\n",
              "    }\n",
              "\n",
              "    .colab-df-convert:hover {\n",
              "      background-color: #E2EBFA;\n",
              "      box-shadow: 0px 1px 2px rgba(60, 64, 67, 0.3), 0px 1px 3px 1px rgba(60, 64, 67, 0.15);\n",
              "      fill: #174EA6;\n",
              "    }\n",
              "\n",
              "    [theme=dark] .colab-df-convert {\n",
              "      background-color: #3B4455;\n",
              "      fill: #D2E3FC;\n",
              "    }\n",
              "\n",
              "    [theme=dark] .colab-df-convert:hover {\n",
              "      background-color: #434B5C;\n",
              "      box-shadow: 0px 1px 3px 1px rgba(0, 0, 0, 0.15);\n",
              "      filter: drop-shadow(0px 1px 2px rgba(0, 0, 0, 0.3));\n",
              "      fill: #FFFFFF;\n",
              "    }\n",
              "  </style>\n",
              "\n",
              "      <script>\n",
              "        const buttonEl =\n",
              "          document.querySelector('#df-8e80d7cd-1845-411b-94bc-3c7c75d7c3e9 button.colab-df-convert');\n",
              "        buttonEl.style.display =\n",
              "          google.colab.kernel.accessAllowed ? 'block' : 'none';\n",
              "\n",
              "        async function convertToInteractive(key) {\n",
              "          const element = document.querySelector('#df-8e80d7cd-1845-411b-94bc-3c7c75d7c3e9');\n",
              "          const dataTable =\n",
              "            await google.colab.kernel.invokeFunction('convertToInteractive',\n",
              "                                                     [key], {});\n",
              "          if (!dataTable) return;\n",
              "\n",
              "          const docLinkHtml = 'Like what you see? Visit the ' +\n",
              "            '<a target=\"_blank\" href=https://colab.research.google.com/notebooks/data_table.ipynb>data table notebook</a>'\n",
              "            + ' to learn more about interactive tables.';\n",
              "          element.innerHTML = '';\n",
              "          dataTable['output_type'] = 'display_data';\n",
              "          await google.colab.output.renderOutput(dataTable, element);\n",
              "          const docLink = document.createElement('div');\n",
              "          docLink.innerHTML = docLinkHtml;\n",
              "          element.appendChild(docLink);\n",
              "        }\n",
              "      </script>\n",
              "    </div>\n",
              "  </div>\n",
              "  "
            ],
            "text/plain": [
              "                                              제목  \\\n",
              "195  [IT CookBook, UI/UX 디자인 이론과 실무 with 어도비 XD]   \n",
              "196                 [STEM@CookBook, 공학 기초수학(2판)]   \n",
              "197         [STEM@CookBook, Beer의 정역학과 재료역학(3판)]   \n",
              "198                              [STEIN 푸리에 해석학]   \n",
              "199                          [미분적분학 : 기초부터 응용까지]   \n",
              "\n",
              "                                                    저자                     번역  \\\n",
              "195                                                이영주                      -   \n",
              "196                                                함남우                      -   \n",
              "197  Ferdinand P. Beer , E. Russell Johnston, Jr. ,...  김경식 , 박재균 , 오창국 , 이정휘   \n",
              "198                    ELIAS M. STEIN , RAMI SHAKARCHI    한빛수학교재연구소 , 이상혁(감수)   \n",
              "199                                          수학교재편찬위원회                      -   \n",
              "\n",
              "            출간일  페이지     가격  \n",
              "195  2022-05-20  512  30000  \n",
              "196  2022-05-02  484  22000  \n",
              "197  2022-03-22  772  39000  \n",
              "198  2022-03-18  348  38000  \n",
              "199  2022-03-04  680  35000  "
            ]
          },
          "execution_count": 34,
          "metadata": {},
          "output_type": "execute_result"
        }
      ],
      "source": [
        "df = pd.DataFrame(lines, columns=['제목','저자','번역','출간일','페이지','가격'])\n",
        "df.tail()"
      ]
    },
    {
      "cell_type": "code",
      "execution_count": null,
      "metadata": {
        "id": "A2vuBhAShP8T"
      },
      "outputs": [
        {
          "ename": "",
          "evalue": "",
          "output_type": "error",
          "traceback": [
            "\u001b[1;31m커널을 시작하지 못했습니다. \n",
            "\u001b[1;31mc:\\Users\\조성근\\AppData\\Local\\Programs\\Python\\Python310\\lib\\site-packages\\traitlets\\traitlets.py:2392: FutureWarning: Supporting extra quotes around strings is deprecated in traitlets 5.0. You can use 'hmac-sha256' instead of '\"hmac-sha256\"' if you require traitlets >=5.\n",
            "\u001b[1;31m  warn(\n",
            "\u001b[1;31mc:\\Users\\조성근\\AppData\\Local\\Programs\\Python\\Python310\\lib\\site-packages\\traitlets\\traitlets.py:2346: FutureWarning: Supporting extra quotes around Bytes is deprecated in traitlets 5.0. Use '6a4f1698-dfaf-45f9-b268-6396ebc0f17a' instead of 'b\"6a4f1698-dfaf-45f9-b268-6396ebc0f17a\"'.\n",
            "\u001b[1;31m  warn(\n",
            "\u001b[1;31mBad file descriptor (C:\\projects\\libzmq\\src\\epoll.cpp:100). \n",
            "자세한 내용은 Jupyter <a href='command:jupyter.viewOutput'>로그</a>를 참조하세요."
          ]
        }
      ],
      "source": [
        "python for vs-code"
      ]
    }
  ],
  "metadata": {
    "colab": {
      "collapsed_sections": [],
      "name": "한.ipynb",
      "provenance": []
    },
    "kernelspec": {
      "display_name": "Python 3.10.5 64-bit (system)",
      "language": "python",
      "name": "python3"
    },
    "language_info": {
      "name": "python",
      "version": "3.10.5"
    },
    "vscode": {
      "interpreter": {
        "hash": "7d961d276fa6b7489d91208816f2474cc35e9ebd642943d689d934346381b88a"
      }
    }
  },
  "nbformat": 4,
  "nbformat_minor": 0
}
