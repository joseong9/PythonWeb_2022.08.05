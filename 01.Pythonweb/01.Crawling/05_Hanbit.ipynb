{
  "cells": [
    {
      "cell_type": "markdown",
      "metadata": {
        "id": "2DtfO8ExNvMk"
      },
      "source": [
        "# 한빛아카데미 - 새로나온책 10 페이지\n",
        "- https://www.hanbit.co.kr/academy/books/new_book_list.html\n",
        "- 제목, 저자, 출간일, 쪽수, 가격, 역자"
      ]
    },
    {
      "cell_type": "code",
      "execution_count": 1,
      "metadata": {
        "id": "8KaYzNQMNoq7"
      },
      "outputs": [],
      "source": [
        "import requests\n",
        "import pandas as pd\n",
        "from bs4 import BeautifulSoup\n",
        "from tqdm.notebook import tqdm"
      ]
    },
    {
      "cell_type": "code",
      "execution_count": 5,
      "metadata": {
        "id": "3VR22CFLOLyz"
      },
      "outputs": [],
      "source": [
        "base_url = 'https://www.hanbit.co.kr'\n",
        "sub_url = '/academy/books/new_book_list.html'\n",
        "url = base_url + sub_url + '?page=' + str(1)\n",
        "req = requests.get(url)\n",
        "soup = BeautifulSoup(req.text, 'html.parser')"
      ]
    },
    {
      "cell_type": "markdown",
      "metadata": {
        "id": "4ldtSBPeReWS"
      },
      "source": [
        "### 1. 찾으려고 하는 목록 데이터"
      ]
    },
    {
      "cell_type": "code",
      "execution_count": 6,
      "metadata": {
        "colab": {
          "base_uri": "https://localhost:8080/"
        },
        "id": "gSHVTyjvRNKV",
        "outputId": "a06d8a06-9630-438a-a92e-09a38ada8f73"
      },
      "outputs": [
        {
          "data": {
            "text/plain": [
              "20"
            ]
          },
          "execution_count": 6,
          "metadata": {},
          "output_type": "execute_result"
        }
      ],
      "source": [
        "lis = soup.select('li.sub_book_list')\n",
        "len(lis)"
      ]
    },
    {
      "cell_type": "markdown",
      "metadata": {
        "id": "TgqTtenzSbUd"
      },
      "source": [
        "### 2. 하나의 데이터로 원하는 정보 추출"
      ]
    },
    {
      "cell_type": "code",
      "execution_count": 8,
      "metadata": {
        "colab": {
          "base_uri": "https://localhost:8080/",
          "height": 35
        },
        "id": "_bWEFHtMR7mc",
        "outputId": "299d7a56-ce36-4147-ae57-2f987ef60430"
      },
      "outputs": [
        {
          "data": {
            "application/vnd.google.colaboratory.intrinsic+json": {
              "type": "string"
            },
            "text/plain": [
              "'/academy/books/book_view.html?p_code=B8672666879'"
            ]
          },
          "execution_count": 8,
          "metadata": {},
          "output_type": "execute_result"
        }
      ],
      "source": [
        "li = lis[0]\n",
        "href = li.find('a')['href']\n",
        "href"
      ]
    },
    {
      "cell_type": "markdown",
      "metadata": {
        "id": "IK8aDkrETL8Q"
      },
      "source": [
        "- sub page로 이동해서 원하는 정보 추출"
      ]
    },
    {
      "cell_type": "code",
      "execution_count": 10,
      "metadata": {
        "id": "swmx-XhVTBQO"
      },
      "outputs": [],
      "source": [
        "sub_req = requests.get(base_url + href)\n",
        "sub_soup = BeautifulSoup(sub_req.text, 'html.parser')"
      ]
    },
    {
      "cell_type": "code",
      "execution_count": 11,
      "metadata": {
        "colab": {
          "base_uri": "https://localhost:8080/",
          "height": 35
        },
        "id": "MDMNhgguUhS1",
        "outputId": "fa44906e-bada-4fff-d30d-30e378990094"
      },
      "outputs": [
        {
          "data": {
            "application/vnd.google.colaboratory.intrinsic+json": {
              "type": "string"
            },
            "text/plain": [
              "'STEM CookBook, 문제 해결력을 키우는 기계설계'"
            ]
          },
          "execution_count": 11,
          "metadata": {},
          "output_type": "execute_result"
        }
      ],
      "source": [
        "title = sub_soup.select_one('.store_product_info_box > h3').get_text().strip()\n",
        "title"
      ]
    },
    {
      "cell_type": "code",
      "execution_count": 13,
      "metadata": {
        "colab": {
          "base_uri": "https://localhost:8080/"
        },
        "id": "FxqNSjz2To2b",
        "outputId": "71470b7b-4d14-4a3d-b485-3681b5b6dee9"
      },
      "outputs": [
        {
          "data": {
            "text/plain": [
              "{'ISBN': '9791156646150',\n",
              " '물류코드': '4615',\n",
              " '저자': '이상범',\n",
              " '출간': '2022-08-05',\n",
              " '페이지': '680 쪽'}"
            ]
          },
          "execution_count": 13,
          "metadata": {},
          "output_type": "execute_result"
        }
      ],
      "source": [
        "info_lis = sub_soup.select('.info_list > li')\n",
        "info_dict = {}\n",
        "for li in info_lis:\n",
        "    key = li.find('strong').get_text().split(' ')[0]\n",
        "    val = li.find('span').get_text().strip()\n",
        "    info_dict[key] = val\n",
        "\n",
        "info_dict"
      ]
    },
    {
      "cell_type": "code",
      "execution_count": 15,
      "metadata": {
        "colab": {
          "base_uri": "https://localhost:8080/"
        },
        "id": "O8TXwKB_a5if",
        "outputId": "cf056f90-a89a-4369-f76c-c46251a5479d"
      },
      "outputs": [
        {
          "data": {
            "text/plain": [
              "('이상범', '-', '2022-08-05', 680)"
            ]
          },
          "execution_count": 15,
          "metadata": {},
          "output_type": "execute_result"
        }
      ],
      "source": [
        "author = info_dict['저자']\n",
        "try:\n",
        "    translator = info_dict['번역']\n",
        "except:\n",
        "    translator = '-'\n",
        "date = info_dict['출간']\n",
        "page = int(info_dict['페이지'].split(' ')[0].replace(',',''))\n",
        "author, translator, date, page"
      ]
    },
    {
      "cell_type": "code",
      "execution_count": 18,
      "metadata": {
        "colab": {
          "base_uri": "https://localhost:8080/"
        },
        "id": "NZUg6Chqb-uS",
        "outputId": "0d8357b9-d554-445d-e97b-879d88b95ab4"
      },
      "outputs": [
        {
          "data": {
            "text/plain": [
              "34000"
            ]
          },
          "execution_count": 18,
          "metadata": {},
          "output_type": "execute_result"
        }
      ],
      "source": [
        "price = int(sub_soup.select_one('.pbr > strong').get_text().replace(',',''))\n",
        "price"
      ]
    },
    {
      "cell_type": "markdown",
      "metadata": {
        "id": "QKzfBwRxdBRA"
      },
      "source": [
        "### 3. 한 페이지내의 모든 정보 가져오기"
      ]
    },
    {
      "cell_type": "code",
      "execution_count": 19,
      "metadata": {
        "id": "XDZ9YV7NcjgY"
      },
      "outputs": [],
      "source": [
        "lines = []\n",
        "for li in lis:\n",
        "    href = li.find('a')['href']\n",
        "    sub_req = requests.get(base_url + href)\n",
        "    sub_soup = BeautifulSoup(sub_req.text, 'html.parser')\n",
        "\n",
        "    title = sub_soup.select_one('.store_product_info_box > h3').get_text().strip()\n",
        "    info_lis = sub_soup.select('.info_list > li')\n",
        "    info_dict = {}\n",
        "    for li in info_lis:\n",
        "        key = li.find('strong').get_text().split(' ')[0]\n",
        "        val = li.find('span').get_text().strip()\n",
        "        info_dict[key] = val\n",
        "\n",
        "    author = info_dict['저자']\n",
        "    try:\n",
        "        translator = info_dict['번역']\n",
        "    except:\n",
        "        translator = '-'\n",
        "    date = info_dict['출간']\n",
        "    page = int(info_dict['페이지'].split(' ')[0].replace(',','')) \n",
        "    price = int(sub_soup.select_one('.pbr > strong').get_text().replace(',',''))\n",
        "    lines.append([title, author, translator, date, page, price])  "
      ]
    },
    {
      "cell_type": "markdown",
      "metadata": {
        "id": "u3_I548FeA8b"
      },
      "source": [
        "### 4. 데이터프레임으로 만들고 확인하기"
      ]
    },
    {
      "cell_type": "code",
      "execution_count": 20,
      "metadata": {
        "colab": {
          "base_uri": "https://localhost:8080/",
          "height": 677
        },
        "id": "pzXbAWmhd53W",
        "outputId": "9343d4c2-df5d-472e-bddf-e8929bca7ae4"
      },
      "outputs": [
        {
          "data": {
            "text/html": [
              "\n",
              "  <div id=\"df-47d269a3-80dd-44fd-92a7-3984f923f5e1\">\n",
              "    <div class=\"colab-df-container\">\n",
              "      <div>\n",
              "<style scoped>\n",
              "    .dataframe tbody tr th:only-of-type {\n",
              "        vertical-align: middle;\n",
              "    }\n",
              "\n",
              "    .dataframe tbody tr th {\n",
              "        vertical-align: top;\n",
              "    }\n",
              "\n",
              "    .dataframe thead th {\n",
              "        text-align: right;\n",
              "    }\n",
              "</style>\n",
              "<table border=\"1\" class=\"dataframe\">\n",
              "  <thead>\n",
              "    <tr style=\"text-align: right;\">\n",
              "      <th></th>\n",
              "      <th>제목</th>\n",
              "      <th>저자</th>\n",
              "      <th>번역</th>\n",
              "      <th>출간일</th>\n",
              "      <th>쪽수</th>\n",
              "      <th>판매가</th>\n",
              "    </tr>\n",
              "  </thead>\n",
              "  <tbody>\n",
              "    <tr>\n",
              "      <th>0</th>\n",
              "      <td>STEM CookBook, 문제 해결력을 키우는 기계설계</td>\n",
              "      <td>이상범</td>\n",
              "      <td>-</td>\n",
              "      <td>2022-08-05</td>\n",
              "      <td>680</td>\n",
              "      <td>34000</td>\n",
              "    </tr>\n",
              "    <tr>\n",
              "      <th>1</th>\n",
              "      <td>경영분석(6판)</td>\n",
              "      <td>장영광 , 송치승</td>\n",
              "      <td>-</td>\n",
              "      <td>2022-07-22</td>\n",
              "      <td>556</td>\n",
              "      <td>36000</td>\n",
              "    </tr>\n",
              "    <tr>\n",
              "      <th>2</th>\n",
              "      <td>IT CookBook, 기초부터 시작하는 PLC : OMRON NX</td>\n",
              "      <td>정완보 , 이진호</td>\n",
              "      <td>-</td>\n",
              "      <td>2022-07-18</td>\n",
              "      <td>636</td>\n",
              "      <td>32000</td>\n",
              "    </tr>\n",
              "    <tr>\n",
              "      <th>3</th>\n",
              "      <td>IT CookBook, 원리로 이해하는 전력전자공학(2판)</td>\n",
              "      <td>원충연 , 김영렬 , 이택기 , 류홍제 , 故정용채</td>\n",
              "      <td>-</td>\n",
              "      <td>2022-07-11</td>\n",
              "      <td>588</td>\n",
              "      <td>30000</td>\n",
              "    </tr>\n",
              "    <tr>\n",
              "      <th>4</th>\n",
              "      <td>IT CookBook, TCP/IP 소켓 프로그래밍(2판)</td>\n",
              "      <td>김선우</td>\n",
              "      <td>-</td>\n",
              "      <td>2022-06-30</td>\n",
              "      <td>600</td>\n",
              "      <td>32000</td>\n",
              "    </tr>\n",
              "    <tr>\n",
              "      <th>5</th>\n",
              "      <td>IT CookBook, 쉽게 배우는 데이터 통신과 컴퓨터 네트워크(3판)</td>\n",
              "      <td>박기현</td>\n",
              "      <td>-</td>\n",
              "      <td>2022-06-30</td>\n",
              "      <td>676</td>\n",
              "      <td>30000</td>\n",
              "    </tr>\n",
              "    <tr>\n",
              "      <th>6</th>\n",
              "      <td>IT CookBook, 우분투 리눅스(3판)</td>\n",
              "      <td>이종원</td>\n",
              "      <td>-</td>\n",
              "      <td>2022-06-30</td>\n",
              "      <td>800</td>\n",
              "      <td>34000</td>\n",
              "    </tr>\n",
              "    <tr>\n",
              "      <th>7</th>\n",
              "      <td>거시경제학(3판)</td>\n",
              "      <td>주상영</td>\n",
              "      <td>-</td>\n",
              "      <td>2022-06-30</td>\n",
              "      <td>640</td>\n",
              "      <td>36000</td>\n",
              "    </tr>\n",
              "    <tr>\n",
              "      <th>8</th>\n",
              "      <td>실용적 접근 방식의 경영학원론(10판)</td>\n",
              "      <td>Angelo Kinicki , Denise Breaux Soignet</td>\n",
              "      <td>김안드레아</td>\n",
              "      <td>2022-06-30</td>\n",
              "      <td>800</td>\n",
              "      <td>39000</td>\n",
              "    </tr>\n",
              "    <tr>\n",
              "      <th>9</th>\n",
              "      <td>IT CookBook, C로 시작하는 컴퓨터 프로그래밍(4판)</td>\n",
              "      <td>문호석, 손명호</td>\n",
              "      <td>-</td>\n",
              "      <td>2022-06-26</td>\n",
              "      <td>432</td>\n",
              "      <td>23000</td>\n",
              "    </tr>\n",
              "    <tr>\n",
              "      <th>10</th>\n",
              "      <td>IT CookBook, 인터넷 해킹과 보안(4판)</td>\n",
              "      <td>김경곤</td>\n",
              "      <td>-</td>\n",
              "      <td>2022-06-25</td>\n",
              "      <td>456</td>\n",
              "      <td>29000</td>\n",
              "    </tr>\n",
              "    <tr>\n",
              "      <th>11</th>\n",
              "      <td>IT CookBook, 파이썬 데이터 분석 for Beginner</td>\n",
              "      <td>우재남</td>\n",
              "      <td>-</td>\n",
              "      <td>2022-06-23</td>\n",
              "      <td>504</td>\n",
              "      <td>28000</td>\n",
              "    </tr>\n",
              "    <tr>\n",
              "      <th>12</th>\n",
              "      <td>IT CookBook, 엑셀 2019</td>\n",
              "      <td>김지연</td>\n",
              "      <td>-</td>\n",
              "      <td>2022-06-20</td>\n",
              "      <td>456</td>\n",
              "      <td>20000</td>\n",
              "    </tr>\n",
              "    <tr>\n",
              "      <th>13</th>\n",
              "      <td>IT CookBook, 소프트웨어 공학 이론과 실제</td>\n",
              "      <td>홍장의</td>\n",
              "      <td>-</td>\n",
              "      <td>2022-06-10</td>\n",
              "      <td>528</td>\n",
              "      <td>33000</td>\n",
              "    </tr>\n",
              "    <tr>\n",
              "      <th>14</th>\n",
              "      <td>공학도라면 반드시 알아야 할 최소한의 수학(8판)</td>\n",
              "      <td>John Bird</td>\n",
              "      <td>이재원</td>\n",
              "      <td>2022-06-10</td>\n",
              "      <td>432</td>\n",
              "      <td>25000</td>\n",
              "    </tr>\n",
              "    <tr>\n",
              "      <th>15</th>\n",
              "      <td>IT CookBook, UI/UX 디자인 이론과 실무 with 어도비 XD</td>\n",
              "      <td>이영주</td>\n",
              "      <td>-</td>\n",
              "      <td>2022-05-20</td>\n",
              "      <td>512</td>\n",
              "      <td>30000</td>\n",
              "    </tr>\n",
              "    <tr>\n",
              "      <th>16</th>\n",
              "      <td>STEM@CookBook, 공학 기초수학(2판)</td>\n",
              "      <td>함남우</td>\n",
              "      <td>-</td>\n",
              "      <td>2022-05-02</td>\n",
              "      <td>484</td>\n",
              "      <td>22000</td>\n",
              "    </tr>\n",
              "    <tr>\n",
              "      <th>17</th>\n",
              "      <td>STEM@CookBook, Beer의 정역학과 재료역학(3판)</td>\n",
              "      <td>Ferdinand P. Beer , E. Russell Johnston, Jr. ,...</td>\n",
              "      <td>김경식 , 박재균 , 오창국 , 이정휘</td>\n",
              "      <td>2022-03-22</td>\n",
              "      <td>772</td>\n",
              "      <td>39000</td>\n",
              "    </tr>\n",
              "    <tr>\n",
              "      <th>18</th>\n",
              "      <td>STEIN 푸리에 해석학</td>\n",
              "      <td>ELIAS M. STEIN , RAMI SHAKARCHI</td>\n",
              "      <td>한빛수학교재연구소 , 이상혁(감수)</td>\n",
              "      <td>2022-03-18</td>\n",
              "      <td>348</td>\n",
              "      <td>38000</td>\n",
              "    </tr>\n",
              "    <tr>\n",
              "      <th>19</th>\n",
              "      <td>미분적분학 : 기초부터 응용까지</td>\n",
              "      <td>수학교재편찬위원회</td>\n",
              "      <td>-</td>\n",
              "      <td>2022-03-04</td>\n",
              "      <td>680</td>\n",
              "      <td>35000</td>\n",
              "    </tr>\n",
              "  </tbody>\n",
              "</table>\n",
              "</div>\n",
              "      <button class=\"colab-df-convert\" onclick=\"convertToInteractive('df-47d269a3-80dd-44fd-92a7-3984f923f5e1')\"\n",
              "              title=\"Convert this dataframe to an interactive table.\"\n",
              "              style=\"display:none;\">\n",
              "        \n",
              "  <svg xmlns=\"http://www.w3.org/2000/svg\" height=\"24px\"viewBox=\"0 0 24 24\"\n",
              "       width=\"24px\">\n",
              "    <path d=\"M0 0h24v24H0V0z\" fill=\"none\"/>\n",
              "    <path d=\"M18.56 5.44l.94 2.06.94-2.06 2.06-.94-2.06-.94-.94-2.06-.94 2.06-2.06.94zm-11 1L8.5 8.5l.94-2.06 2.06-.94-2.06-.94L8.5 2.5l-.94 2.06-2.06.94zm10 10l.94 2.06.94-2.06 2.06-.94-2.06-.94-.94-2.06-.94 2.06-2.06.94z\"/><path d=\"M17.41 7.96l-1.37-1.37c-.4-.4-.92-.59-1.43-.59-.52 0-1.04.2-1.43.59L10.3 9.45l-7.72 7.72c-.78.78-.78 2.05 0 2.83L4 21.41c.39.39.9.59 1.41.59.51 0 1.02-.2 1.41-.59l7.78-7.78 2.81-2.81c.8-.78.8-2.07 0-2.86zM5.41 20L4 18.59l7.72-7.72 1.47 1.35L5.41 20z\"/>\n",
              "  </svg>\n",
              "      </button>\n",
              "      \n",
              "  <style>\n",
              "    .colab-df-container {\n",
              "      display:flex;\n",
              "      flex-wrap:wrap;\n",
              "      gap: 12px;\n",
              "    }\n",
              "\n",
              "    .colab-df-convert {\n",
              "      background-color: #E8F0FE;\n",
              "      border: none;\n",
              "      border-radius: 50%;\n",
              "      cursor: pointer;\n",
              "      display: none;\n",
              "      fill: #1967D2;\n",
              "      height: 32px;\n",
              "      padding: 0 0 0 0;\n",
              "      width: 32px;\n",
              "    }\n",
              "\n",
              "    .colab-df-convert:hover {\n",
              "      background-color: #E2EBFA;\n",
              "      box-shadow: 0px 1px 2px rgba(60, 64, 67, 0.3), 0px 1px 3px 1px rgba(60, 64, 67, 0.15);\n",
              "      fill: #174EA6;\n",
              "    }\n",
              "\n",
              "    [theme=dark] .colab-df-convert {\n",
              "      background-color: #3B4455;\n",
              "      fill: #D2E3FC;\n",
              "    }\n",
              "\n",
              "    [theme=dark] .colab-df-convert:hover {\n",
              "      background-color: #434B5C;\n",
              "      box-shadow: 0px 1px 3px 1px rgba(0, 0, 0, 0.15);\n",
              "      filter: drop-shadow(0px 1px 2px rgba(0, 0, 0, 0.3));\n",
              "      fill: #FFFFFF;\n",
              "    }\n",
              "  </style>\n",
              "\n",
              "      <script>\n",
              "        const buttonEl =\n",
              "          document.querySelector('#df-47d269a3-80dd-44fd-92a7-3984f923f5e1 button.colab-df-convert');\n",
              "        buttonEl.style.display =\n",
              "          google.colab.kernel.accessAllowed ? 'block' : 'none';\n",
              "\n",
              "        async function convertToInteractive(key) {\n",
              "          const element = document.querySelector('#df-47d269a3-80dd-44fd-92a7-3984f923f5e1');\n",
              "          const dataTable =\n",
              "            await google.colab.kernel.invokeFunction('convertToInteractive',\n",
              "                                                     [key], {});\n",
              "          if (!dataTable) return;\n",
              "\n",
              "          const docLinkHtml = 'Like what you see? Visit the ' +\n",
              "            '<a target=\"_blank\" href=https://colab.research.google.com/notebooks/data_table.ipynb>data table notebook</a>'\n",
              "            + ' to learn more about interactive tables.';\n",
              "          element.innerHTML = '';\n",
              "          dataTable['output_type'] = 'display_data';\n",
              "          await google.colab.output.renderOutput(dataTable, element);\n",
              "          const docLink = document.createElement('div');\n",
              "          docLink.innerHTML = docLinkHtml;\n",
              "          element.appendChild(docLink);\n",
              "        }\n",
              "      </script>\n",
              "    </div>\n",
              "  </div>\n",
              "  "
            ],
            "text/plain": [
              "                                           제목  \\\n",
              "0             STEM CookBook, 문제 해결력을 키우는 기계설계   \n",
              "1                                    경영분석(6판)   \n",
              "2       IT CookBook, 기초부터 시작하는 PLC : OMRON NX   \n",
              "3            IT CookBook, 원리로 이해하는 전력전자공학(2판)   \n",
              "4            IT CookBook, TCP/IP 소켓 프로그래밍(2판)   \n",
              "5    IT CookBook, 쉽게 배우는 데이터 통신과 컴퓨터 네트워크(3판)   \n",
              "6                    IT CookBook, 우분투 리눅스(3판)   \n",
              "7                                   거시경제학(3판)   \n",
              "8                       실용적 접근 방식의 경영학원론(10판)   \n",
              "9          IT CookBook, C로 시작하는 컴퓨터 프로그래밍(4판)   \n",
              "10                IT CookBook, 인터넷 해킹과 보안(4판)   \n",
              "11       IT CookBook, 파이썬 데이터 분석 for Beginner   \n",
              "12                       IT CookBook, 엑셀 2019   \n",
              "13               IT CookBook, 소프트웨어 공학 이론과 실제   \n",
              "14                공학도라면 반드시 알아야 할 최소한의 수학(8판)   \n",
              "15  IT CookBook, UI/UX 디자인 이론과 실무 with 어도비 XD   \n",
              "16                 STEM@CookBook, 공학 기초수학(2판)   \n",
              "17         STEM@CookBook, Beer의 정역학과 재료역학(3판)   \n",
              "18                              STEIN 푸리에 해석학   \n",
              "19                          미분적분학 : 기초부터 응용까지   \n",
              "\n",
              "                                                   저자                     번역  \\\n",
              "0                                                 이상범                      -   \n",
              "1                                           장영광 , 송치승                      -   \n",
              "2                                           정완보 , 이진호                      -   \n",
              "3                        원충연 , 김영렬 , 이택기 , 류홍제 , 故정용채                      -   \n",
              "4                                                 김선우                      -   \n",
              "5                                                 박기현                      -   \n",
              "6                                                 이종원                      -   \n",
              "7                                                 주상영                      -   \n",
              "8              Angelo Kinicki , Denise Breaux Soignet                  김안드레아   \n",
              "9                                            문호석, 손명호                      -   \n",
              "10                                                김경곤                      -   \n",
              "11                                                우재남                      -   \n",
              "12                                                김지연                      -   \n",
              "13                                                홍장의                      -   \n",
              "14                                          John Bird                    이재원   \n",
              "15                                                이영주                      -   \n",
              "16                                                함남우                      -   \n",
              "17  Ferdinand P. Beer , E. Russell Johnston, Jr. ,...  김경식 , 박재균 , 오창국 , 이정휘   \n",
              "18                    ELIAS M. STEIN , RAMI SHAKARCHI    한빛수학교재연구소 , 이상혁(감수)   \n",
              "19                                          수학교재편찬위원회                      -   \n",
              "\n",
              "           출간일   쪽수    판매가  \n",
              "0   2022-08-05  680  34000  \n",
              "1   2022-07-22  556  36000  \n",
              "2   2022-07-18  636  32000  \n",
              "3   2022-07-11  588  30000  \n",
              "4   2022-06-30  600  32000  \n",
              "5   2022-06-30  676  30000  \n",
              "6   2022-06-30  800  34000  \n",
              "7   2022-06-30  640  36000  \n",
              "8   2022-06-30  800  39000  \n",
              "9   2022-06-26  432  23000  \n",
              "10  2022-06-25  456  29000  \n",
              "11  2022-06-23  504  28000  \n",
              "12  2022-06-20  456  20000  \n",
              "13  2022-06-10  528  33000  \n",
              "14  2022-06-10  432  25000  \n",
              "15  2022-05-20  512  30000  \n",
              "16  2022-05-02  484  22000  \n",
              "17  2022-03-22  772  39000  \n",
              "18  2022-03-18  348  38000  \n",
              "19  2022-03-04  680  35000  "
            ]
          },
          "execution_count": 20,
          "metadata": {},
          "output_type": "execute_result"
        }
      ],
      "source": [
        "df = pd.DataFrame(lines, columns=['제목','저자','번역','출간일','쪽수','판매가'])\n",
        "df"
      ]
    },
    {
      "cell_type": "markdown",
      "metadata": {
        "id": "HmoKQl5geaAw"
      },
      "source": [
        "### 5. 10 페이지 정보 가져오기"
      ]
    },
    {
      "cell_type": "code",
      "execution_count": 21,
      "metadata": {
        "colab": {
          "base_uri": "https://localhost:8080/",
          "height": 49,
          "referenced_widgets": [
            "f9b6311fc38143dda32e32fa5ac0ff8b",
            "42d7911698774256b422c55eb19ada81",
            "fc258b51cd654fa09da600a273d1b0a8",
            "cb016a6e6ee64314a06f163e6ab57fc3",
            "2725757cbaf9479b9a450b22e4a70c73",
            "faa157bb119c434fbb78c5216c9291b2",
            "c1e51f6d00cf4158aba3fb4b8a43094d",
            "cada03e2090d4bc79a32fc2faadbae2a",
            "feef401d29d4438792959613bd3230fd",
            "0ba12f95f921422bb1a8f7588b935154",
            "bf772a8ecf054d3f89f354b679c21a45"
          ]
        },
        "id": "0Ylz1Io4eQSZ",
        "outputId": "e50b106b-a966-4c47-d24a-fe50febf268b"
      },
      "outputs": [
        {
          "data": {
            "application/vnd.jupyter.widget-view+json": {
              "model_id": "f9b6311fc38143dda32e32fa5ac0ff8b",
              "version_major": 2,
              "version_minor": 0
            },
            "text/plain": [
              "  0%|          | 0/10 [00:00<?, ?it/s]"
            ]
          },
          "metadata": {},
          "output_type": "display_data"
        }
      ],
      "source": [
        "lines = []\n",
        "for page in tqdm(range(1, 11)):\n",
        "    url = base_url + sub_url + '?page=' + str(page)\n",
        "    req = requests.get(url)\n",
        "    soup = BeautifulSoup(req.text, 'html.parser')\n",
        "    lis = soup.select('li.sub_book_list')\n",
        "\n",
        "    for li in lis:\n",
        "        href = li.find('a')['href']\n",
        "        sub_req = requests.get(base_url + href)\n",
        "        sub_soup = BeautifulSoup(sub_req.text, 'html.parser')\n",
        "\n",
        "        title = sub_soup.select_one('.store_product_info_box > h3').get_text().strip()\n",
        "        info_lis = sub_soup.select('.info_list > li')\n",
        "        info_dict = {}\n",
        "        for li in info_lis:\n",
        "            key = li.find('strong').get_text().split(' ')[0]\n",
        "            val = li.find('span').get_text().strip()\n",
        "            info_dict[key] = val\n",
        "\n",
        "        author = info_dict['저자']\n",
        "        try:\n",
        "            translator = info_dict['번역']\n",
        "        except:\n",
        "            translator = '-'\n",
        "        date = info_dict['출간']\n",
        "        page = int(info_dict['페이지'].split(' ')[0].replace(',','')) \n",
        "        price = int(sub_soup.select_one('.pbr > strong').get_text().replace(',',''))\n",
        "        lines.append([title, author, translator, date, page, price]) "
      ]
    },
    {
      "cell_type": "markdown",
      "metadata": {
        "id": "NSiJCaObg-05"
      },
      "source": [
        "### 6. 모든 데이터를 데이터프레임으로 만들고 저장하기"
      ]
    },
    {
      "cell_type": "code",
      "execution_count": 22,
      "metadata": {
        "colab": {
          "base_uri": "https://localhost:8080/",
          "height": 206
        },
        "id": "7-4oxBrrfF6m",
        "outputId": "189654ae-e207-4449-d6c2-ead28a04de79"
      },
      "outputs": [
        {
          "data": {
            "text/html": [
              "\n",
              "  <div id=\"df-c0d02420-79b3-489a-aac0-948df70ede70\">\n",
              "    <div class=\"colab-df-container\">\n",
              "      <div>\n",
              "<style scoped>\n",
              "    .dataframe tbody tr th:only-of-type {\n",
              "        vertical-align: middle;\n",
              "    }\n",
              "\n",
              "    .dataframe tbody tr th {\n",
              "        vertical-align: top;\n",
              "    }\n",
              "\n",
              "    .dataframe thead th {\n",
              "        text-align: right;\n",
              "    }\n",
              "</style>\n",
              "<table border=\"1\" class=\"dataframe\">\n",
              "  <thead>\n",
              "    <tr style=\"text-align: right;\">\n",
              "      <th></th>\n",
              "      <th>제목</th>\n",
              "      <th>저자</th>\n",
              "      <th>번역</th>\n",
              "      <th>출간일</th>\n",
              "      <th>쪽수</th>\n",
              "      <th>판매가</th>\n",
              "    </tr>\n",
              "  </thead>\n",
              "  <tbody>\n",
              "    <tr>\n",
              "      <th>195</th>\n",
              "      <td>IT Cookbook, 처음 만나는 전자회로</td>\n",
              "      <td>황형수</td>\n",
              "      <td>-</td>\n",
              "      <td>2019-07-10</td>\n",
              "      <td>440</td>\n",
              "      <td>24000</td>\n",
              "    </tr>\n",
              "    <tr>\n",
              "      <th>196</th>\n",
              "      <td>스트랭 미분방정식과 선형대수학</td>\n",
              "      <td>Gilbert Strang</td>\n",
              "      <td>한빛수학교재연구소</td>\n",
              "      <td>2019-07-09</td>\n",
              "      <td>552</td>\n",
              "      <td>30000</td>\n",
              "    </tr>\n",
              "    <tr>\n",
              "      <th>197</th>\n",
              "      <td>IT CookBook, 네트워크 개론(3판)</td>\n",
              "      <td>진혜진</td>\n",
              "      <td>-</td>\n",
              "      <td>2019-07-05</td>\n",
              "      <td>516</td>\n",
              "      <td>25000</td>\n",
              "    </tr>\n",
              "    <tr>\n",
              "      <th>198</th>\n",
              "      <td>IT CookBook, 텐서플로로 배우는 딥러닝</td>\n",
              "      <td>박혜정 , 석경하 , 심주용 , 황창하</td>\n",
              "      <td>-</td>\n",
              "      <td>2019-06-30</td>\n",
              "      <td>448</td>\n",
              "      <td>27000</td>\n",
              "    </tr>\n",
              "    <tr>\n",
              "      <th>199</th>\n",
              "      <td>IT CookBook, 파워포인트 2016</td>\n",
              "      <td>김지연</td>\n",
              "      <td>-</td>\n",
              "      <td>2019-06-29</td>\n",
              "      <td>420</td>\n",
              "      <td>19000</td>\n",
              "    </tr>\n",
              "  </tbody>\n",
              "</table>\n",
              "</div>\n",
              "      <button class=\"colab-df-convert\" onclick=\"convertToInteractive('df-c0d02420-79b3-489a-aac0-948df70ede70')\"\n",
              "              title=\"Convert this dataframe to an interactive table.\"\n",
              "              style=\"display:none;\">\n",
              "        \n",
              "  <svg xmlns=\"http://www.w3.org/2000/svg\" height=\"24px\"viewBox=\"0 0 24 24\"\n",
              "       width=\"24px\">\n",
              "    <path d=\"M0 0h24v24H0V0z\" fill=\"none\"/>\n",
              "    <path d=\"M18.56 5.44l.94 2.06.94-2.06 2.06-.94-2.06-.94-.94-2.06-.94 2.06-2.06.94zm-11 1L8.5 8.5l.94-2.06 2.06-.94-2.06-.94L8.5 2.5l-.94 2.06-2.06.94zm10 10l.94 2.06.94-2.06 2.06-.94-2.06-.94-.94-2.06-.94 2.06-2.06.94z\"/><path d=\"M17.41 7.96l-1.37-1.37c-.4-.4-.92-.59-1.43-.59-.52 0-1.04.2-1.43.59L10.3 9.45l-7.72 7.72c-.78.78-.78 2.05 0 2.83L4 21.41c.39.39.9.59 1.41.59.51 0 1.02-.2 1.41-.59l7.78-7.78 2.81-2.81c.8-.78.8-2.07 0-2.86zM5.41 20L4 18.59l7.72-7.72 1.47 1.35L5.41 20z\"/>\n",
              "  </svg>\n",
              "      </button>\n",
              "      \n",
              "  <style>\n",
              "    .colab-df-container {\n",
              "      display:flex;\n",
              "      flex-wrap:wrap;\n",
              "      gap: 12px;\n",
              "    }\n",
              "\n",
              "    .colab-df-convert {\n",
              "      background-color: #E8F0FE;\n",
              "      border: none;\n",
              "      border-radius: 50%;\n",
              "      cursor: pointer;\n",
              "      display: none;\n",
              "      fill: #1967D2;\n",
              "      height: 32px;\n",
              "      padding: 0 0 0 0;\n",
              "      width: 32px;\n",
              "    }\n",
              "\n",
              "    .colab-df-convert:hover {\n",
              "      background-color: #E2EBFA;\n",
              "      box-shadow: 0px 1px 2px rgba(60, 64, 67, 0.3), 0px 1px 3px 1px rgba(60, 64, 67, 0.15);\n",
              "      fill: #174EA6;\n",
              "    }\n",
              "\n",
              "    [theme=dark] .colab-df-convert {\n",
              "      background-color: #3B4455;\n",
              "      fill: #D2E3FC;\n",
              "    }\n",
              "\n",
              "    [theme=dark] .colab-df-convert:hover {\n",
              "      background-color: #434B5C;\n",
              "      box-shadow: 0px 1px 3px 1px rgba(0, 0, 0, 0.15);\n",
              "      filter: drop-shadow(0px 1px 2px rgba(0, 0, 0, 0.3));\n",
              "      fill: #FFFFFF;\n",
              "    }\n",
              "  </style>\n",
              "\n",
              "      <script>\n",
              "        const buttonEl =\n",
              "          document.querySelector('#df-c0d02420-79b3-489a-aac0-948df70ede70 button.colab-df-convert');\n",
              "        buttonEl.style.display =\n",
              "          google.colab.kernel.accessAllowed ? 'block' : 'none';\n",
              "\n",
              "        async function convertToInteractive(key) {\n",
              "          const element = document.querySelector('#df-c0d02420-79b3-489a-aac0-948df70ede70');\n",
              "          const dataTable =\n",
              "            await google.colab.kernel.invokeFunction('convertToInteractive',\n",
              "                                                     [key], {});\n",
              "          if (!dataTable) return;\n",
              "\n",
              "          const docLinkHtml = 'Like what you see? Visit the ' +\n",
              "            '<a target=\"_blank\" href=https://colab.research.google.com/notebooks/data_table.ipynb>data table notebook</a>'\n",
              "            + ' to learn more about interactive tables.';\n",
              "          element.innerHTML = '';\n",
              "          dataTable['output_type'] = 'display_data';\n",
              "          await google.colab.output.renderOutput(dataTable, element);\n",
              "          const docLink = document.createElement('div');\n",
              "          docLink.innerHTML = docLinkHtml;\n",
              "          element.appendChild(docLink);\n",
              "        }\n",
              "      </script>\n",
              "    </div>\n",
              "  </div>\n",
              "  "
            ],
            "text/plain": [
              "                             제목                     저자         번역         출간일  \\\n",
              "195    IT Cookbook, 처음 만나는 전자회로                    황형수          -  2019-07-10   \n",
              "196            스트랭 미분방정식과 선형대수학         Gilbert Strang  한빛수학교재연구소  2019-07-09   \n",
              "197    IT CookBook, 네트워크 개론(3판)                    진혜진          -  2019-07-05   \n",
              "198  IT CookBook, 텐서플로로 배우는 딥러닝  박혜정 , 석경하 , 심주용 , 황창하          -  2019-06-30   \n",
              "199     IT CookBook, 파워포인트 2016                    김지연          -  2019-06-29   \n",
              "\n",
              "      쪽수    판매가  \n",
              "195  440  24000  \n",
              "196  552  30000  \n",
              "197  516  25000  \n",
              "198  448  27000  \n",
              "199  420  19000  "
            ]
          },
          "execution_count": 22,
          "metadata": {},
          "output_type": "execute_result"
        }
      ],
      "source": [
        "df = pd.DataFrame(lines, columns=['제목','저자','번역','출간일','쪽수','판매가'])\n",
        "df.tail()"
      ]
    },
    {
      "cell_type": "code",
      "execution_count": 23,
      "metadata": {
        "id": "hMe5oYWZhHsA"
      },
      "outputs": [],
      "source": [
        "df.to_csv('한빛신간도서(220808).csv', index=False)"
      ]
    },
    {
      "cell_type": "code",
      "execution_count": null,
      "metadata": {
        "id": "eOtPz5N1hWFy"
      },
      "outputs": [],
      "source": []
    }
  ],
  "metadata": {
    "colab": {
      "collapsed_sections": [],
      "name": "05_Hanbit.ipynb",
      "provenance": []
    },
    "kernelspec": {
      "display_name": "Python 3.10.5 64-bit",
      "language": "python",
      "name": "python3"
    },
    "language_info": {
      "name": "python",
      "version": "3.10.5"
    },
    "vscode": {
      "interpreter": {
        "hash": "7d961d276fa6b7489d91208816f2474cc35e9ebd642943d689d934346381b88a"
      }
    },
    "widgets": {
      "application/vnd.jupyter.widget-state+json": {
        "0ba12f95f921422bb1a8f7588b935154": {
          "model_module": "@jupyter-widgets/base",
          "model_module_version": "1.2.0",
          "model_name": "LayoutModel",
          "state": {
            "_model_module": "@jupyter-widgets/base",
            "_model_module_version": "1.2.0",
            "_model_name": "LayoutModel",
            "_view_count": null,
            "_view_module": "@jupyter-widgets/base",
            "_view_module_version": "1.2.0",
            "_view_name": "LayoutView",
            "align_content": null,
            "align_items": null,
            "align_self": null,
            "border": null,
            "bottom": null,
            "display": null,
            "flex": null,
            "flex_flow": null,
            "grid_area": null,
            "grid_auto_columns": null,
            "grid_auto_flow": null,
            "grid_auto_rows": null,
            "grid_column": null,
            "grid_gap": null,
            "grid_row": null,
            "grid_template_areas": null,
            "grid_template_columns": null,
            "grid_template_rows": null,
            "height": null,
            "justify_content": null,
            "justify_items": null,
            "left": null,
            "margin": null,
            "max_height": null,
            "max_width": null,
            "min_height": null,
            "min_width": null,
            "object_fit": null,
            "object_position": null,
            "order": null,
            "overflow": null,
            "overflow_x": null,
            "overflow_y": null,
            "padding": null,
            "right": null,
            "top": null,
            "visibility": null,
            "width": null
          }
        },
        "2725757cbaf9479b9a450b22e4a70c73": {
          "model_module": "@jupyter-widgets/base",
          "model_module_version": "1.2.0",
          "model_name": "LayoutModel",
          "state": {
            "_model_module": "@jupyter-widgets/base",
            "_model_module_version": "1.2.0",
            "_model_name": "LayoutModel",
            "_view_count": null,
            "_view_module": "@jupyter-widgets/base",
            "_view_module_version": "1.2.0",
            "_view_name": "LayoutView",
            "align_content": null,
            "align_items": null,
            "align_self": null,
            "border": null,
            "bottom": null,
            "display": null,
            "flex": null,
            "flex_flow": null,
            "grid_area": null,
            "grid_auto_columns": null,
            "grid_auto_flow": null,
            "grid_auto_rows": null,
            "grid_column": null,
            "grid_gap": null,
            "grid_row": null,
            "grid_template_areas": null,
            "grid_template_columns": null,
            "grid_template_rows": null,
            "height": null,
            "justify_content": null,
            "justify_items": null,
            "left": null,
            "margin": null,
            "max_height": null,
            "max_width": null,
            "min_height": null,
            "min_width": null,
            "object_fit": null,
            "object_position": null,
            "order": null,
            "overflow": null,
            "overflow_x": null,
            "overflow_y": null,
            "padding": null,
            "right": null,
            "top": null,
            "visibility": null,
            "width": null
          }
        },
        "42d7911698774256b422c55eb19ada81": {
          "model_module": "@jupyter-widgets/controls",
          "model_module_version": "1.5.0",
          "model_name": "HTMLModel",
          "state": {
            "_dom_classes": [],
            "_model_module": "@jupyter-widgets/controls",
            "_model_module_version": "1.5.0",
            "_model_name": "HTMLModel",
            "_view_count": null,
            "_view_module": "@jupyter-widgets/controls",
            "_view_module_version": "1.5.0",
            "_view_name": "HTMLView",
            "description": "",
            "description_tooltip": null,
            "layout": "IPY_MODEL_faa157bb119c434fbb78c5216c9291b2",
            "placeholder": "​",
            "style": "IPY_MODEL_c1e51f6d00cf4158aba3fb4b8a43094d",
            "value": "100%"
          }
        },
        "bf772a8ecf054d3f89f354b679c21a45": {
          "model_module": "@jupyter-widgets/controls",
          "model_module_version": "1.5.0",
          "model_name": "DescriptionStyleModel",
          "state": {
            "_model_module": "@jupyter-widgets/controls",
            "_model_module_version": "1.5.0",
            "_model_name": "DescriptionStyleModel",
            "_view_count": null,
            "_view_module": "@jupyter-widgets/base",
            "_view_module_version": "1.2.0",
            "_view_name": "StyleView",
            "description_width": ""
          }
        },
        "c1e51f6d00cf4158aba3fb4b8a43094d": {
          "model_module": "@jupyter-widgets/controls",
          "model_module_version": "1.5.0",
          "model_name": "DescriptionStyleModel",
          "state": {
            "_model_module": "@jupyter-widgets/controls",
            "_model_module_version": "1.5.0",
            "_model_name": "DescriptionStyleModel",
            "_view_count": null,
            "_view_module": "@jupyter-widgets/base",
            "_view_module_version": "1.2.0",
            "_view_name": "StyleView",
            "description_width": ""
          }
        },
        "cada03e2090d4bc79a32fc2faadbae2a": {
          "model_module": "@jupyter-widgets/base",
          "model_module_version": "1.2.0",
          "model_name": "LayoutModel",
          "state": {
            "_model_module": "@jupyter-widgets/base",
            "_model_module_version": "1.2.0",
            "_model_name": "LayoutModel",
            "_view_count": null,
            "_view_module": "@jupyter-widgets/base",
            "_view_module_version": "1.2.0",
            "_view_name": "LayoutView",
            "align_content": null,
            "align_items": null,
            "align_self": null,
            "border": null,
            "bottom": null,
            "display": null,
            "flex": null,
            "flex_flow": null,
            "grid_area": null,
            "grid_auto_columns": null,
            "grid_auto_flow": null,
            "grid_auto_rows": null,
            "grid_column": null,
            "grid_gap": null,
            "grid_row": null,
            "grid_template_areas": null,
            "grid_template_columns": null,
            "grid_template_rows": null,
            "height": null,
            "justify_content": null,
            "justify_items": null,
            "left": null,
            "margin": null,
            "max_height": null,
            "max_width": null,
            "min_height": null,
            "min_width": null,
            "object_fit": null,
            "object_position": null,
            "order": null,
            "overflow": null,
            "overflow_x": null,
            "overflow_y": null,
            "padding": null,
            "right": null,
            "top": null,
            "visibility": null,
            "width": null
          }
        },
        "cb016a6e6ee64314a06f163e6ab57fc3": {
          "model_module": "@jupyter-widgets/controls",
          "model_module_version": "1.5.0",
          "model_name": "HTMLModel",
          "state": {
            "_dom_classes": [],
            "_model_module": "@jupyter-widgets/controls",
            "_model_module_version": "1.5.0",
            "_model_name": "HTMLModel",
            "_view_count": null,
            "_view_module": "@jupyter-widgets/controls",
            "_view_module_version": "1.5.0",
            "_view_name": "HTMLView",
            "description": "",
            "description_tooltip": null,
            "layout": "IPY_MODEL_0ba12f95f921422bb1a8f7588b935154",
            "placeholder": "​",
            "style": "IPY_MODEL_bf772a8ecf054d3f89f354b679c21a45",
            "value": " 10/10 [02:28&lt;00:00, 14.84s/it]"
          }
        },
        "f9b6311fc38143dda32e32fa5ac0ff8b": {
          "model_module": "@jupyter-widgets/controls",
          "model_module_version": "1.5.0",
          "model_name": "HBoxModel",
          "state": {
            "_dom_classes": [],
            "_model_module": "@jupyter-widgets/controls",
            "_model_module_version": "1.5.0",
            "_model_name": "HBoxModel",
            "_view_count": null,
            "_view_module": "@jupyter-widgets/controls",
            "_view_module_version": "1.5.0",
            "_view_name": "HBoxView",
            "box_style": "",
            "children": [
              "IPY_MODEL_42d7911698774256b422c55eb19ada81",
              "IPY_MODEL_fc258b51cd654fa09da600a273d1b0a8",
              "IPY_MODEL_cb016a6e6ee64314a06f163e6ab57fc3"
            ],
            "layout": "IPY_MODEL_2725757cbaf9479b9a450b22e4a70c73"
          }
        },
        "faa157bb119c434fbb78c5216c9291b2": {
          "model_module": "@jupyter-widgets/base",
          "model_module_version": "1.2.0",
          "model_name": "LayoutModel",
          "state": {
            "_model_module": "@jupyter-widgets/base",
            "_model_module_version": "1.2.0",
            "_model_name": "LayoutModel",
            "_view_count": null,
            "_view_module": "@jupyter-widgets/base",
            "_view_module_version": "1.2.0",
            "_view_name": "LayoutView",
            "align_content": null,
            "align_items": null,
            "align_self": null,
            "border": null,
            "bottom": null,
            "display": null,
            "flex": null,
            "flex_flow": null,
            "grid_area": null,
            "grid_auto_columns": null,
            "grid_auto_flow": null,
            "grid_auto_rows": null,
            "grid_column": null,
            "grid_gap": null,
            "grid_row": null,
            "grid_template_areas": null,
            "grid_template_columns": null,
            "grid_template_rows": null,
            "height": null,
            "justify_content": null,
            "justify_items": null,
            "left": null,
            "margin": null,
            "max_height": null,
            "max_width": null,
            "min_height": null,
            "min_width": null,
            "object_fit": null,
            "object_position": null,
            "order": null,
            "overflow": null,
            "overflow_x": null,
            "overflow_y": null,
            "padding": null,
            "right": null,
            "top": null,
            "visibility": null,
            "width": null
          }
        },
        "fc258b51cd654fa09da600a273d1b0a8": {
          "model_module": "@jupyter-widgets/controls",
          "model_module_version": "1.5.0",
          "model_name": "FloatProgressModel",
          "state": {
            "_dom_classes": [],
            "_model_module": "@jupyter-widgets/controls",
            "_model_module_version": "1.5.0",
            "_model_name": "FloatProgressModel",
            "_view_count": null,
            "_view_module": "@jupyter-widgets/controls",
            "_view_module_version": "1.5.0",
            "_view_name": "ProgressView",
            "bar_style": "success",
            "description": "",
            "description_tooltip": null,
            "layout": "IPY_MODEL_cada03e2090d4bc79a32fc2faadbae2a",
            "max": 10,
            "min": 0,
            "orientation": "horizontal",
            "style": "IPY_MODEL_feef401d29d4438792959613bd3230fd",
            "value": 10
          }
        },
        "feef401d29d4438792959613bd3230fd": {
          "model_module": "@jupyter-widgets/controls",
          "model_module_version": "1.5.0",
          "model_name": "ProgressStyleModel",
          "state": {
            "_model_module": "@jupyter-widgets/controls",
            "_model_module_version": "1.5.0",
            "_model_name": "ProgressStyleModel",
            "_view_count": null,
            "_view_module": "@jupyter-widgets/base",
            "_view_module_version": "1.2.0",
            "_view_name": "StyleView",
            "bar_color": null,
            "description_width": ""
          }
        }
      }
    }
  },
  "nbformat": 4,
  "nbformat_minor": 0
}
