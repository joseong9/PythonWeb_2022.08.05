{
  "cells": [
    {
      "cell_type": "markdown",
      "metadata": {
        "id": "c7AOjQT4kqOy"
      },
      "source": [
        "# HTML 파일 열어서 원하는 정보 가져오기"
      ]
    },
    {
      "cell_type": "code",
      "execution_count": 1,
      "metadata": {
        "id": "3_sNz0S4x30L"
      },
      "outputs": [],
      "source": [
        "from bs4 import BeautifulSoup\n",
        "with open('example.html') as f:\n",
        "    soup = BeautifulSoup(f, 'html.parser')"
      ]
    },
    {
      "cell_type": "markdown",
      "metadata": {
        "id": "G3lw2qwhqIEb"
      },
      "source": [
        "### 1. 태그 정보: find(), find_all()"
      ]
    },
    {
      "cell_type": "code",
      "execution_count": 2,
      "metadata": {
        "colab": {
          "base_uri": "https://localhost:8080/"
        },
        "id": "wo0P8t6QlEq2",
        "outputId": "2673bfd9-d2b7-4e9e-a48f-bd366f700b1f"
      },
      "outputs": [
        {
          "data": {
            "text/plain": [
              "<div>\n",
              "<p>a</p>\n",
              "<p>b</p>\n",
              "<p>c</p>\n",
              "</div>"
            ]
          },
          "execution_count": 2,
          "metadata": {},
          "output_type": "execute_result"
        }
      ],
      "source": [
        "# 첫번째 div 태그의 내용을 가져오기\n",
        "first_div = soup.find('div')\n",
        "first_div"
      ]
    },
    {
      "cell_type": "code",
      "execution_count": 3,
      "metadata": {
        "colab": {
          "base_uri": "https://localhost:8080/"
        },
        "id": "89C0cSM1l8yB",
        "outputId": "1fbaf24b-d60f-49e7-c883-573d4a386f43"
      },
      "outputs": [
        {
          "data": {
            "text/plain": [
              "[<p>a</p>, <p>b</p>, <p>c</p>]"
            ]
          },
          "execution_count": 3,
          "metadata": {},
          "output_type": "execute_result"
        }
      ],
      "source": [
        "# 해당되는 태그를 모두 가져오기\n",
        "ps = first_div.find_all('p')\n",
        "ps"
      ]
    },
    {
      "cell_type": "code",
      "execution_count": 4,
      "metadata": {
        "colab": {
          "base_uri": "https://localhost:8080/"
        },
        "id": "pcwKpCyMpvnJ",
        "outputId": "a3f1dce3-79ee-436b-8beb-28bba52d69a6"
      },
      "outputs": [
        {
          "name": "stdout",
          "output_type": "stream",
          "text": [
            "<p>a</p>\n",
            "<p>b</p>\n",
            "<p>c</p>\n"
          ]
        }
      ],
      "source": [
        "for ptag in ps:\n",
        "    print(ptag)"
      ]
    },
    {
      "cell_type": "code",
      "execution_count": 5,
      "metadata": {
        "colab": {
          "base_uri": "https://localhost:8080/"
        },
        "id": "x-Az1RBYp45Y",
        "outputId": "17d5d9a5-16c1-4ea2-a31c-f9c3e3f2d541"
      },
      "outputs": [
        {
          "data": {
            "text/plain": [
              "<p>b</p>"
            ]
          },
          "execution_count": 5,
          "metadata": {},
          "output_type": "execute_result"
        }
      ],
      "source": [
        "ps[1]"
      ]
    },
    {
      "cell_type": "markdown",
      "metadata": {
        "id": "9tC24iy1qPZh"
      },
      "source": [
        "### 2. CSS Selector: select_one(), select()"
      ]
    },
    {
      "cell_type": "code",
      "execution_count": 6,
      "metadata": {
        "colab": {
          "base_uri": "https://localhost:8080/"
        },
        "id": "cWlQ1CKIqAwp",
        "outputId": "fbf965bd-1991-4731-c508-1f1bcc8b42fd"
      },
      "outputs": [
        {
          "data": {
            "text/plain": [
              "<div class=\"ex_class\">\n",
              "<p></p>\n",
              "<p></p>\n",
              "<p></p>\n",
              "</div>"
            ]
          },
          "execution_count": 6,
          "metadata": {},
          "output_type": "execute_result"
        }
      ],
      "source": [
        "# class 명이 ex_class인 태그의 정보를 가져오기\n",
        "second_div = soup.select_one('.ex_class')\n",
        "second_div"
      ]
    },
    {
      "cell_type": "code",
      "execution_count": 7,
      "metadata": {
        "colab": {
          "base_uri": "https://localhost:8080/"
        },
        "id": "BpoysdmOq1jq",
        "outputId": "e1ad29cb-cfe4-49cd-847e-03df8937b15b"
      },
      "outputs": [
        {
          "data": {
            "text/plain": [
              "<div id=\"ex_id\">\n",
              "<p></p>\n",
              "<p></p>\n",
              "<p></p>\n",
              "</div>"
            ]
          },
          "execution_count": 7,
          "metadata": {},
          "output_type": "execute_result"
        }
      ],
      "source": [
        "# id 값이 ex_id인 태그의 정보를 가져오기\n",
        "third_div = soup.select_one('#ex_id')\n",
        "third_div"
      ]
    },
    {
      "cell_type": "code",
      "execution_count": 8,
      "metadata": {
        "colab": {
          "base_uri": "https://localhost:8080/"
        },
        "id": "88AwCs_srLhK",
        "outputId": "02643600-2e5c-41df-8849-499e33b66bce"
      },
      "outputs": [
        {
          "data": {
            "text/plain": [
              "3"
            ]
          },
          "execution_count": 8,
          "metadata": {},
          "output_type": "execute_result"
        }
      ],
      "source": [
        "# div 태그를 모두 가져오기\n",
        "all_divs = soup.select('div')\n",
        "len(all_divs)"
      ]
    },
    {
      "cell_type": "code",
      "execution_count": 9,
      "metadata": {
        "colab": {
          "base_uri": "https://localhost:8080/"
        },
        "id": "awZihKAUrdYR",
        "outputId": "55a6ff83-e38e-46d4-dbf8-3e8c339fb7fb"
      },
      "outputs": [
        {
          "data": {
            "text/plain": [
              "11"
            ]
          },
          "execution_count": 9,
          "metadata": {},
          "output_type": "execute_result"
        }
      ],
      "source": [
        "# 모든 p 태그\n",
        "all_ps = soup.find_all('p')\n",
        "len(all_ps)"
      ]
    },
    {
      "cell_type": "code",
      "execution_count": 11,
      "metadata": {
        "colab": {
          "base_uri": "https://localhost:8080/"
        },
        "id": "yu7g9xCwsSyK",
        "outputId": "6b01ed17-fb56-44c0-9166-6dba1b3dbb5d"
      },
      "outputs": [
        {
          "data": {
            "text/plain": [
              "9"
            ]
          },
          "execution_count": 11,
          "metadata": {},
          "output_type": "execute_result"
        }
      ],
      "source": [
        "# div의 자식인 p 태그\n",
        "div_ps = soup.select('div p')\n",
        "len(div_ps)"
      ]
    },
    {
      "cell_type": "markdown",
      "metadata": {
        "id": "-znDo3festJa"
      },
      "source": [
        "### 3. 결과"
      ]
    },
    {
      "cell_type": "code",
      "execution_count": 13,
      "metadata": {
        "colab": {
          "base_uri": "https://localhost:8080/",
          "height": 36
        },
        "id": "JaEGbWWXsdaJ",
        "outputId": "0fa82b8e-ac2e-4341-eba0-1776214ae07c"
      },
      "outputs": [
        {
          "data": {
            "application/vnd.google.colaboratory.intrinsic+json": {
              "type": "string"
            },
            "text/plain": [
              "'This is a heading.'"
            ]
          },
          "execution_count": 13,
          "metadata": {},
          "output_type": "execute_result"
        }
      ],
      "source": [
        "# 태그 안의 내용\n",
        "h1_info = soup.find('h1').get_text()\n",
        "h1_info"
      ]
    },
    {
      "cell_type": "code",
      "execution_count": 14,
      "metadata": {
        "colab": {
          "base_uri": "https://localhost:8080/",
          "height": 36
        },
        "id": "2zCQvOnas7m7",
        "outputId": "67aee95e-ec03-4f70-dd69-0192625af737"
      },
      "outputs": [
        {
          "data": {
            "application/vnd.google.colaboratory.intrinsic+json": {
              "type": "string"
            },
            "text/plain": [
              "'This is a heading.'"
            ]
          },
          "execution_count": 14,
          "metadata": {},
          "output_type": "execute_result"
        }
      ],
      "source": [
        "soup.find('h1').string"
      ]
    },
    {
      "cell_type": "code",
      "execution_count": 17,
      "metadata": {
        "colab": {
          "base_uri": "https://localhost:8080/",
          "height": 36
        },
        "id": "KFnyECg3tXEZ",
        "outputId": "43d6d6c4-fc91-4586-c371-dc11622bcca4"
      },
      "outputs": [
        {
          "data": {
            "application/vnd.google.colaboratory.intrinsic+json": {
              "type": "string"
            },
            "text/plain": [
              "'Naver'"
            ]
          },
          "execution_count": 17,
          "metadata": {},
          "output_type": "execute_result"
        }
      ],
      "source": [
        "soup.find('a').get_text()"
      ]
    },
    {
      "cell_type": "code",
      "execution_count": 18,
      "metadata": {
        "colab": {
          "base_uri": "https://localhost:8080/",
          "height": 36
        },
        "id": "TYDuDKVItpNX",
        "outputId": "26d1e06a-7838-405f-8a3d-3e346dfd8dc6"
      },
      "outputs": [
        {
          "data": {
            "application/vnd.google.colaboratory.intrinsic+json": {
              "type": "string"
            },
            "text/plain": [
              "'www.naver.com'"
            ]
          },
          "execution_count": 18,
          "metadata": {},
          "output_type": "execute_result"
        }
      ],
      "source": [
        "# 속성값\n",
        "soup.find('a')['href']"
      ]
    },
    {
      "cell_type": "code",
      "execution_count": null,
      "metadata": {
        "id": "iFLFW7urtvdh"
      },
      "outputs": [],
      "source": []
    }
  ],
  "metadata": {
    "colab": {
      "collapsed_sections": [],
      "name": "01_file.ipynb",
      "provenance": []
    },
    "kernelspec": {
      "display_name": "Python 3.10.5 64-bit",
      "language": "python",
      "name": "python3"
    },
    "language_info": {
      "name": "python",
      "version": "3.10.5"
    },
    "vscode": {
      "interpreter": {
        "hash": "7d961d276fa6b7489d91208816f2474cc35e9ebd642943d689d934346381b88a"
      }
    }
  },
  "nbformat": 4,
  "nbformat_minor": 0
}
