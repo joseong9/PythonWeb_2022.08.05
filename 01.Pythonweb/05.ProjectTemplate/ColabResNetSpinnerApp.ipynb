{
  "nbformat": 4,
  "nbformat_minor": 0,
  "metadata": {
    "colab": {
      "name": "ColabResNetSpinnerApp.ipynb",
      "provenance": [],
      "collapsed_sections": []
    },
    "kernelspec": {
      "name": "python3",
      "display_name": "Python 3"
    },
    "language_info": {
      "name": "python"
    }
  },
  "cells": [
    {
      "cell_type": "markdown",
      "source": [
        "# Project Template App - Ngrok, Colab and ResNet"
      ],
      "metadata": {
        "id": "gaKdMwRc-uJo"
      }
    },
    {
      "cell_type": "code",
      "execution_count": 1,
      "metadata": {
        "id": "Czut_Fdx-qO5"
      },
      "outputs": [],
      "source": [
        "!pip install flask-ngrok > /dev/null 2>&1\n",
        "!pip install pyngrok > /dev/null 2>&1"
      ]
    },
    {
      "cell_type": "code",
      "source": [
        "from google.colab import drive\n",
        "drive.mount('/content/drive')"
      ],
      "metadata": {
        "colab": {
          "base_uri": "https://localhost:8080/"
        },
        "id": "XgCMECiH-6bI",
        "outputId": "8fd1128f-c6d6-4dfd-b80b-064c25bed6d0"
      },
      "execution_count": 2,
      "outputs": [
        {
          "output_type": "stream",
          "name": "stdout",
          "text": [
            "Mounted at /content/drive\n"
          ]
        }
      ]
    },
    {
      "cell_type": "code",
      "source": [
        "with open('drive/MyDrive/project/static/ngrok_auth.txt') as nf:\n",
        "    ngrok_auth = nf.read()"
      ],
      "metadata": {
        "id": "n-u2Q4dr_U8f"
      },
      "execution_count": 3,
      "outputs": []
    },
    {
      "cell_type": "code",
      "source": [
        "!ngrok authtoken $ngrok_auth"
      ],
      "metadata": {
        "colab": {
          "base_uri": "https://localhost:8080/"
        },
        "id": "rvxYjmh4AMhA",
        "outputId": "e7779a8f-d4c5-4db4-d04e-823dce8fdff4"
      },
      "execution_count": 4,
      "outputs": [
        {
          "output_type": "stream",
          "name": "stdout",
          "text": [
            "Authtoken saved to configuration file: /root/.ngrok2/ngrok.yml\n"
          ]
        }
      ]
    },
    {
      "cell_type": "markdown",
      "source": [
        "### Web Server Code"
      ],
      "metadata": {
        "id": "rMAfkvTsAZ0u"
      }
    },
    {
      "cell_type": "code",
      "source": [
        "from flask import Flask, render_template, request\n",
        "from flask_ngrok import run_with_ngrok\n",
        "import os, time\n",
        "from tensorflow.keras.applications.resnet50 import ResNet50, decode_predictions\n",
        "import numpy as np\n",
        "from PIL import Image\n",
        "import matplotlib.pyplot as plt\n",
        "\n",
        "app = Flask(__name__, static_folder='/content/drive/MyDrive/project/static',\n",
        "                      template_folder='/content/drive/MyDrive/project/templates')\n",
        "run_with_ngrok(app)\n",
        "\n",
        "@app.before_first_request\n",
        "def before_first_request():\n",
        "    global resnet50\n",
        "    resnet50 = ResNet50()\n",
        "\n",
        "@app.route('/')\n",
        "def home():\n",
        "    menu = {'home':1, 'menu':0}\n",
        "    return render_template('index.html', menu=menu)\n",
        "\n",
        "@app.route('/menu', methods=['GET','POST'])\n",
        "def menu():\n",
        "    menu = {'home':0, 'menu':1}\n",
        "    if request.method == 'GET':\n",
        "        languages = [\n",
        "            {'disp':'영어', 'val':'en'},\n",
        "            {'disp':'일어', 'val':'jp'},\n",
        "            {'disp':'중국어', 'val':'cn'},\n",
        "            {'disp':'프랑스어', 'val':'fr'},\n",
        "            {'disp':'스페인어', 'val':'es'}\n",
        "        ]\n",
        "        return render_template('menu.html', menu=menu,\n",
        "                                options=languages)   # 서버에서 클라이언트로 정보 전달\n",
        "    else:\n",
        "        # 사용자가 입력한 파일을 읽어서 upload 디렉토리에 저장\n",
        "        f_image = request.files['image']\n",
        "        fname = f_image.filename                # 사용자가 입력한 파일 이름\n",
        "        filename = os.path.join(app.static_folder, 'upload/') + fname\n",
        "        f_image.save(filename)\n",
        "        return render_template('menu_spinner.html', menu=menu, fname=fname)\n",
        "\n",
        "@app.route('/menu_res', methods=['POST'])\n",
        "def menu_res():\n",
        "    menu = {'home':0, 'menu':1}\n",
        "    fname = request.form['fname']\n",
        "    # 모델 실행\n",
        "    filename = os.path.join(app.static_folder, 'upload/') + fname\n",
        "    ext = fname.split('.')[-1]\n",
        "    img = Image.open(filename)\n",
        "    img = img.resize((224,224))\n",
        "    if ext.lower() == 'png':\n",
        "        img_array = np.array(img)[:,:,:3]\n",
        "    else:\n",
        "        img_array = np.array(img)\n",
        "    yhat = resnet50.predict(img_array.reshape(1,224,224,3))\n",
        "    label = decode_predictions(yhat)\n",
        "    img_class = label[0][0][1]\n",
        "    prob = label[0][0][2]\n",
        "\n",
        "    # 모델 실행후 결과를 돌려줌\n",
        "    time.sleep(5)\n",
        "    result = f'{img_class} ({prob*100:.2f}%)'\n",
        "    mtime = int(os.stat(filename).st_mtime)\n",
        "    return render_template('menu_res.html', result=result, menu=menu,\n",
        "                            fname=fname, mtime=mtime)\n",
        "\n",
        "if __name__ == '__main__':\n",
        "    app.run()"
      ],
      "metadata": {
        "id": "1jBOBRDAAVE-",
        "colab": {
          "base_uri": "https://localhost:8080/"
        },
        "outputId": "e30bdc62-b6f4-4080-d8d9-454f4919f8a5"
      },
      "execution_count": 5,
      "outputs": [
        {
          "output_type": "stream",
          "name": "stdout",
          "text": [
            " * Serving Flask app \"__main__\" (lazy loading)\n",
            " * Environment: production\n",
            "\u001b[31m   WARNING: This is a development server. Do not use it in a production deployment.\u001b[0m\n",
            "\u001b[2m   Use a production WSGI server instead.\u001b[0m\n",
            " * Debug mode: off\n"
          ]
        },
        {
          "output_type": "stream",
          "name": "stderr",
          "text": [
            "INFO:werkzeug: * Running on http://127.0.0.1:5000/ (Press CTRL+C to quit)\n"
          ]
        },
        {
          "output_type": "stream",
          "name": "stdout",
          "text": [
            " * Running on http://1003-34-74-146-221.ngrok.io\n",
            " * Traffic stats available on http://127.0.0.1:4040\n",
            "Downloading data from https://storage.googleapis.com/tensorflow/keras-applications/resnet/resnet50_weights_tf_dim_ordering_tf_kernels.h5\n",
            "102973440/102967424 [==============================] - 1s 0us/step\n",
            "102981632/102967424 [==============================] - 1s 0us/step\n"
          ]
        },
        {
          "output_type": "stream",
          "name": "stderr",
          "text": [
            "INFO:werkzeug:127.0.0.1 - - [29/Aug/2022 06:50:59] \"\u001b[37mGET / HTTP/1.1\u001b[0m\" 200 -\n",
            "INFO:werkzeug:127.0.0.1 - - [29/Aug/2022 06:51:00] \"\u001b[37mGET /static/img/logo.png HTTP/1.1\u001b[0m\" 200 -\n",
            "INFO:werkzeug:127.0.0.1 - - [29/Aug/2022 06:51:00] \"\u001b[37mGET /static/img/favicon.ico HTTP/1.1\u001b[0m\" 200 -\n",
            "INFO:werkzeug:127.0.0.1 - - [29/Aug/2022 06:51:02] \"\u001b[37mGET /menu HTTP/1.1\u001b[0m\" 200 -\n",
            "INFO:werkzeug:127.0.0.1 - - [29/Aug/2022 06:51:11] \"\u001b[37mPOST /menu HTTP/1.1\u001b[0m\" 200 -\n",
            "INFO:werkzeug:127.0.0.1 - - [29/Aug/2022 06:51:12] \"\u001b[37mGET /static/img/please-wait.gif HTTP/1.1\u001b[0m\" 200 -\n"
          ]
        },
        {
          "output_type": "stream",
          "name": "stdout",
          "text": [
            "Downloading data from https://storage.googleapis.com/download.tensorflow.org/data/imagenet_class_index.json\n",
            "40960/35363 [==================================] - 0s 0us/step\n",
            "49152/35363 [=========================================] - 0s 0us/step\n"
          ]
        },
        {
          "output_type": "stream",
          "name": "stderr",
          "text": [
            "INFO:werkzeug:127.0.0.1 - - [29/Aug/2022 06:51:20] \"\u001b[37mPOST /menu_res HTTP/1.1\u001b[0m\" 200 -\n",
            "INFO:werkzeug:127.0.0.1 - - [29/Aug/2022 06:51:20] \"\u001b[37mGET /static/upload/개.jpg?q=1661755871 HTTP/1.1\u001b[0m\" 200 -\n"
          ]
        }
      ]
    }
  ]
}