{
  "nbformat": 4,
  "nbformat_minor": 0,
  "metadata": {
    "colab": {
      "name": "02_Google_colab.ipynb",
      "provenance": [],
      "collapsed_sections": []
    },
    "kernelspec": {
      "name": "python3",
      "display_name": "Python 3"
    },
    "language_info": {
      "name": "python"
    }
  },
  "cells": [
    {
      "cell_type": "markdown",
      "source": [
        "# Google 크롤링 - ChromeDriver 검색"
      ],
      "metadata": {
        "id": "fHuRgM_JD_yt"
      }
    },
    {
      "cell_type": "code",
      "execution_count": null,
      "metadata": {
        "id": "NjucqX58D5ie"
      },
      "outputs": [],
      "source": [
        "!apt-get update > /dev/null 2>&1\n",
        "!pip install selenium > /dev/null 2>&1\n",
        "!apt install chromium-chromedriver > /dev/null 2>&1"
      ]
    },
    {
      "cell_type": "code",
      "source": [
        "import time\n",
        "from selenium import webdriver\n",
        "from selenium.webdriver.common.keys import Keys\n",
        "from selenium.webdriver.common.by import By"
      ],
      "metadata": {
        "id": "SbNNn6v4EOCL"
      },
      "execution_count": null,
      "outputs": []
    },
    {
      "cell_type": "code",
      "source": [
        "options = webdriver.ChromeOptions()\n",
        "options.add_argument('--headless')   # 화면없이 실행\n",
        "options.add_argument('--no-sandbox')\n",
        "options.add_argument(\"--single-process\")\n",
        "options.add_argument(\"--disable-dev-shm-usage\")\n",
        "driver = webdriver.Chrome('chromedriver', options=options)"
      ],
      "metadata": {
        "id": "1M8wphq-IVFl"
      },
      "execution_count": null,
      "outputs": []
    },
    {
      "cell_type": "code",
      "source": [
        "url = 'https://www.google.co.kr/'\n",
        "driver.get(url)"
      ],
      "metadata": {
        "id": "LW30ZX5BIfjz"
      },
      "execution_count": null,
      "outputs": []
    },
    {
      "cell_type": "code",
      "source": [
        "search_box = driver.find_element(by=By.NAME, value='q')\n",
        "search_box.send_keys('ChromeDriver')\n",
        "search_box.send_keys(Keys.ENTER)\n",
        "time.sleep(2)"
      ],
      "metadata": {
        "id": "Ji0x_e-uIzHm"
      },
      "execution_count": null,
      "outputs": []
    },
    {
      "cell_type": "code",
      "source": [
        "divs = driver.find_elements(By.CSS_SELECTOR, '#search .g')\n",
        "len(divs)"
      ],
      "metadata": {
        "colab": {
          "base_uri": "https://localhost:8080/"
        },
        "id": "Nb5H-vmZM6cc",
        "outputId": "816b31ae-8607-4e00-9849-d74c66efc31b"
      },
      "execution_count": null,
      "outputs": [
        {
          "output_type": "execute_result",
          "data": {
            "text/plain": [
              "12"
            ]
          },
          "metadata": {},
          "execution_count": 7
        }
      ]
    },
    {
      "cell_type": "code",
      "source": [
        "div = divs[0]\n",
        "title = div.find_element(By.CSS_SELECTOR, '.LC20lb.MBeuO.DKV0Md').text\n",
        "title"
      ],
      "metadata": {
        "colab": {
          "base_uri": "https://localhost:8080/",
          "height": 36
        },
        "id": "2dKWZm9oOdJM",
        "outputId": "fb8f33a2-027f-4dbc-ab87-f2a40ada7fbb"
      },
      "execution_count": null,
      "outputs": [
        {
          "output_type": "execute_result",
          "data": {
            "text/plain": [
              "'ChromeDriver - WebDriver for Chrome - Downloads'"
            ],
            "application/vnd.google.colaboratory.intrinsic+json": {
              "type": "string"
            }
          },
          "metadata": {},
          "execution_count": 8
        }
      ]
    },
    {
      "cell_type": "code",
      "source": [
        "content = div.find_element(By.CSS_SELECTOR, '.VwiC3b.yXK7lf.MUxGbd').text.strip()\n",
        "content"
      ],
      "metadata": {
        "colab": {
          "base_uri": "https://localhost:8080/",
          "height": 36
        },
        "id": "4wO-2Q_8POQ0",
        "outputId": "b5650a86-636d-4a0a-81a0-cb26c38d7723"
      },
      "execution_count": null,
      "outputs": [
        {
          "output_type": "execute_result",
          "data": {
            "text/plain": [
              "'Current Releases · ChromeDriver 105.0.5195.19 · Supports Chrome version 10 · For more details, please see the · ChromeDriver 104.0.5112.79 · Supports Chrome version ...'"
            ],
            "application/vnd.google.colaboratory.intrinsic+json": {
              "type": "string"
            }
          },
          "metadata": {},
          "execution_count": 9
        }
      ]
    },
    {
      "cell_type": "code",
      "source": [
        "lines = []\n",
        "for div in divs:\n",
        "    try:\n",
        "        title = div.find_element(By.CSS_SELECTOR, '.LC20lb.MBeuO.DKV0Md').text\n",
        "        content = div.find_element(By.CSS_SELECTOR, '.VwiC3b.yXK7lf.MUxGbd').text\n",
        "    except:\n",
        "        continue\n",
        "    lines.append([title, content])"
      ],
      "metadata": {
        "id": "YTh0XOw-QN-F"
      },
      "execution_count": null,
      "outputs": []
    },
    {
      "cell_type": "code",
      "source": [
        "lines"
      ],
      "metadata": {
        "colab": {
          "base_uri": "https://localhost:8080/"
        },
        "id": "POThkTmtQooF",
        "outputId": "ad2242e2-c517-46fc-ca17-72566cecd456"
      },
      "execution_count": null,
      "outputs": [
        {
          "output_type": "execute_result",
          "data": {
            "text/plain": [
              "[['ChromeDriver - WebDriver for Chrome - Downloads',\n",
              "  'Current Releases · ChromeDriver 105.0.5195.19 · Supports Chrome version 10 · For more details, please see the · ChromeDriver 104.0.5112.79 · Supports Chrome version ...'],\n",
              " ['Getting started - ChromeDriver - WebDriver for Chrome',\n",
              "  'ChromeDriver is a separate executable that Selenium WebDriver uses to control Chrome. It is maintained by the Chromium team with help from WebDriver ...'],\n",
              " ['ChromeDriver · SeleniumHQ/selenium Wiki - GitHub',\n",
              "  'Dec 26, 2021 — A browser automation framework and ecosystem. Contribute to SeleniumHQ/selenium development by creating an account on GitHub.'],\n",
              " ['Install browser drivers - Selenium',\n",
              "  'Through WebDriver, Selenium supports all major browsers on the market such as Chrome/Chromium, Firefox, Internet Explorer, Edge, Opera, and Safari.'],\n",
              " ['Index of',\n",
              "  'Name, Last modified, Size, ETag. [DIR], 2.0, -, -, -. [DIR], 2.1, -, -, -. [DIR], 2.10, -, -, -. [DIR], 2.11, -, -, -. [DIR], 2.12, -, -, -. [DIR] ...'],\n",
              " ['chromedriver - npm',\n",
              "  '5 days ago — ChromeDriver for Selenium. Latest version: 104.0.0, last published: 5 days ago. Start using chromedriver in your project by running `npm i ...'],\n",
              " ['How to run Selenium tests on Chrome using ChromeDriver',\n",
              "  'May 9, 2021 — Step 1: First download the ChromeDriver. · Step 2: Once the zip file is downloaded for the operating system, unzip it to retrieve the ...'],\n",
              " ['Selenium.WebDriver.ChromeDriver 104.0.5112.7900 - NuGet',\n",
              "  'Install Chrome Driver (Win32, macOS, macOS M1, and Linux64) for Selenium WebDriver into your Unit Test Project. \"chromedriver(.exe)\" is copied to the bin ...']]"
            ]
          },
          "metadata": {},
          "execution_count": 12
        }
      ]
    },
    {
      "cell_type": "code",
      "source": [
        "import pandas as pd\n",
        "df = pd.DataFrame(lines, columns=['title', 'content'])\n",
        "df"
      ],
      "metadata": {
        "colab": {
          "base_uri": "https://localhost:8080/",
          "height": 300
        },
        "id": "rMIbvgXrREuc",
        "outputId": "f9dd59f7-1e80-4614-8cbc-67e929b81a32"
      },
      "execution_count": null,
      "outputs": [
        {
          "output_type": "execute_result",
          "data": {
            "text/plain": [
              "                                               title  \\\n",
              "0    ChromeDriver - WebDriver for Chrome - Downloads   \n",
              "1  Getting started - ChromeDriver - WebDriver for...   \n",
              "2   ChromeDriver · SeleniumHQ/selenium Wiki - GitHub   \n",
              "3                 Install browser drivers - Selenium   \n",
              "4                                           Index of   \n",
              "5                                 chromedriver - npm   \n",
              "6  How to run Selenium tests on Chrome using Chro...   \n",
              "7  Selenium.WebDriver.ChromeDriver 104.0.5112.790...   \n",
              "\n",
              "                                             content  \n",
              "0  Current Releases · ChromeDriver 105.0.5195.19 ...  \n",
              "1  ChromeDriver is a separate executable that Sel...  \n",
              "2  Dec 26, 2021 — A browser automation framework ...  \n",
              "3  Through WebDriver, Selenium supports all major...  \n",
              "4  Name, Last modified, Size, ETag. [DIR], 2.0, -...  \n",
              "5  5 days ago — ChromeDriver for Selenium. Latest...  \n",
              "6  May 9, 2021 — Step 1: First download the Chrom...  \n",
              "7  Install Chrome Driver (Win32, macOS, macOS M1,...  "
            ],
            "text/html": [
              "\n",
              "  <div id=\"df-bead3eca-ba33-425c-ae5c-ff2b2d9bb111\">\n",
              "    <div class=\"colab-df-container\">\n",
              "      <div>\n",
              "<style scoped>\n",
              "    .dataframe tbody tr th:only-of-type {\n",
              "        vertical-align: middle;\n",
              "    }\n",
              "\n",
              "    .dataframe tbody tr th {\n",
              "        vertical-align: top;\n",
              "    }\n",
              "\n",
              "    .dataframe thead th {\n",
              "        text-align: right;\n",
              "    }\n",
              "</style>\n",
              "<table border=\"1\" class=\"dataframe\">\n",
              "  <thead>\n",
              "    <tr style=\"text-align: right;\">\n",
              "      <th></th>\n",
              "      <th>title</th>\n",
              "      <th>content</th>\n",
              "    </tr>\n",
              "  </thead>\n",
              "  <tbody>\n",
              "    <tr>\n",
              "      <th>0</th>\n",
              "      <td>ChromeDriver - WebDriver for Chrome - Downloads</td>\n",
              "      <td>Current Releases · ChromeDriver 105.0.5195.19 ...</td>\n",
              "    </tr>\n",
              "    <tr>\n",
              "      <th>1</th>\n",
              "      <td>Getting started - ChromeDriver - WebDriver for...</td>\n",
              "      <td>ChromeDriver is a separate executable that Sel...</td>\n",
              "    </tr>\n",
              "    <tr>\n",
              "      <th>2</th>\n",
              "      <td>ChromeDriver · SeleniumHQ/selenium Wiki - GitHub</td>\n",
              "      <td>Dec 26, 2021 — A browser automation framework ...</td>\n",
              "    </tr>\n",
              "    <tr>\n",
              "      <th>3</th>\n",
              "      <td>Install browser drivers - Selenium</td>\n",
              "      <td>Through WebDriver, Selenium supports all major...</td>\n",
              "    </tr>\n",
              "    <tr>\n",
              "      <th>4</th>\n",
              "      <td>Index of</td>\n",
              "      <td>Name, Last modified, Size, ETag. [DIR], 2.0, -...</td>\n",
              "    </tr>\n",
              "    <tr>\n",
              "      <th>5</th>\n",
              "      <td>chromedriver - npm</td>\n",
              "      <td>5 days ago — ChromeDriver for Selenium. Latest...</td>\n",
              "    </tr>\n",
              "    <tr>\n",
              "      <th>6</th>\n",
              "      <td>How to run Selenium tests on Chrome using Chro...</td>\n",
              "      <td>May 9, 2021 — Step 1: First download the Chrom...</td>\n",
              "    </tr>\n",
              "    <tr>\n",
              "      <th>7</th>\n",
              "      <td>Selenium.WebDriver.ChromeDriver 104.0.5112.790...</td>\n",
              "      <td>Install Chrome Driver (Win32, macOS, macOS M1,...</td>\n",
              "    </tr>\n",
              "  </tbody>\n",
              "</table>\n",
              "</div>\n",
              "      <button class=\"colab-df-convert\" onclick=\"convertToInteractive('df-bead3eca-ba33-425c-ae5c-ff2b2d9bb111')\"\n",
              "              title=\"Convert this dataframe to an interactive table.\"\n",
              "              style=\"display:none;\">\n",
              "        \n",
              "  <svg xmlns=\"http://www.w3.org/2000/svg\" height=\"24px\"viewBox=\"0 0 24 24\"\n",
              "       width=\"24px\">\n",
              "    <path d=\"M0 0h24v24H0V0z\" fill=\"none\"/>\n",
              "    <path d=\"M18.56 5.44l.94 2.06.94-2.06 2.06-.94-2.06-.94-.94-2.06-.94 2.06-2.06.94zm-11 1L8.5 8.5l.94-2.06 2.06-.94-2.06-.94L8.5 2.5l-.94 2.06-2.06.94zm10 10l.94 2.06.94-2.06 2.06-.94-2.06-.94-.94-2.06-.94 2.06-2.06.94z\"/><path d=\"M17.41 7.96l-1.37-1.37c-.4-.4-.92-.59-1.43-.59-.52 0-1.04.2-1.43.59L10.3 9.45l-7.72 7.72c-.78.78-.78 2.05 0 2.83L4 21.41c.39.39.9.59 1.41.59.51 0 1.02-.2 1.41-.59l7.78-7.78 2.81-2.81c.8-.78.8-2.07 0-2.86zM5.41 20L4 18.59l7.72-7.72 1.47 1.35L5.41 20z\"/>\n",
              "  </svg>\n",
              "      </button>\n",
              "      \n",
              "  <style>\n",
              "    .colab-df-container {\n",
              "      display:flex;\n",
              "      flex-wrap:wrap;\n",
              "      gap: 12px;\n",
              "    }\n",
              "\n",
              "    .colab-df-convert {\n",
              "      background-color: #E8F0FE;\n",
              "      border: none;\n",
              "      border-radius: 50%;\n",
              "      cursor: pointer;\n",
              "      display: none;\n",
              "      fill: #1967D2;\n",
              "      height: 32px;\n",
              "      padding: 0 0 0 0;\n",
              "      width: 32px;\n",
              "    }\n",
              "\n",
              "    .colab-df-convert:hover {\n",
              "      background-color: #E2EBFA;\n",
              "      box-shadow: 0px 1px 2px rgba(60, 64, 67, 0.3), 0px 1px 3px 1px rgba(60, 64, 67, 0.15);\n",
              "      fill: #174EA6;\n",
              "    }\n",
              "\n",
              "    [theme=dark] .colab-df-convert {\n",
              "      background-color: #3B4455;\n",
              "      fill: #D2E3FC;\n",
              "    }\n",
              "\n",
              "    [theme=dark] .colab-df-convert:hover {\n",
              "      background-color: #434B5C;\n",
              "      box-shadow: 0px 1px 3px 1px rgba(0, 0, 0, 0.15);\n",
              "      filter: drop-shadow(0px 1px 2px rgba(0, 0, 0, 0.3));\n",
              "      fill: #FFFFFF;\n",
              "    }\n",
              "  </style>\n",
              "\n",
              "      <script>\n",
              "        const buttonEl =\n",
              "          document.querySelector('#df-bead3eca-ba33-425c-ae5c-ff2b2d9bb111 button.colab-df-convert');\n",
              "        buttonEl.style.display =\n",
              "          google.colab.kernel.accessAllowed ? 'block' : 'none';\n",
              "\n",
              "        async function convertToInteractive(key) {\n",
              "          const element = document.querySelector('#df-bead3eca-ba33-425c-ae5c-ff2b2d9bb111');\n",
              "          const dataTable =\n",
              "            await google.colab.kernel.invokeFunction('convertToInteractive',\n",
              "                                                     [key], {});\n",
              "          if (!dataTable) return;\n",
              "\n",
              "          const docLinkHtml = 'Like what you see? Visit the ' +\n",
              "            '<a target=\"_blank\" href=https://colab.research.google.com/notebooks/data_table.ipynb>data table notebook</a>'\n",
              "            + ' to learn more about interactive tables.';\n",
              "          element.innerHTML = '';\n",
              "          dataTable['output_type'] = 'display_data';\n",
              "          await google.colab.output.renderOutput(dataTable, element);\n",
              "          const docLink = document.createElement('div');\n",
              "          docLink.innerHTML = docLinkHtml;\n",
              "          element.appendChild(docLink);\n",
              "        }\n",
              "      </script>\n",
              "    </div>\n",
              "  </div>\n",
              "  "
            ]
          },
          "metadata": {},
          "execution_count": 13
        }
      ]
    },
    {
      "cell_type": "code",
      "source": [
        "driver.close()"
      ],
      "metadata": {
        "id": "Ypt_7H8yRVEl"
      },
      "execution_count": null,
      "outputs": []
    }
  ]
}