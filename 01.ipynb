{
  "nbformat": 4,
  "nbformat_minor": 0,
  "metadata": {
    "colab": {
      "name": "01.ipynb",
      "provenance": []
    },
    "kernelspec": {
      "name": "python3",
      "display_name": "Python 3"
    },
    "language_info": {
      "name": "python"
    }
  },
  "cells": [
    {
      "cell_type": "code",
      "execution_count": 1,
      "metadata": {
        "id": "klw7thE2kb43"
      },
      "outputs": [],
      "source": [
        "from bs4 import BeautifulSoup\n",
        "with open('example.html') as f:\n",
        "  soup=BeautifulSoup(f, 'html.parser')"
      ]
    },
    {
      "cell_type": "code",
      "source": [
        "#첫번째 div 태그 내용\n",
        "first_div=soup.find('div')\n",
        "first_div"
      ],
      "metadata": {
        "colab": {
          "base_uri": "https://localhost:8080/"
        },
        "id": "oBhxo46wlOjO",
        "outputId": "5b04ac90-ae3b-4a85-b1a3-c79383757f15"
      },
      "execution_count": 2,
      "outputs": [
        {
          "output_type": "execute_result",
          "data": {
            "text/plain": [
              "<div>\n",
              "<p>a</p>\n",
              "<p>b</p>\n",
              "<p>c</p>\n",
              "</div>"
            ]
          },
          "metadata": {},
          "execution_count": 2
        }
      ]
    },
    {
      "cell_type": "code",
      "source": [
        "#해당되는 태그를 모두 가져오기\n",
        "ps=first_div.find_all('p')\n",
        "ps"
      ],
      "metadata": {
        "colab": {
          "base_uri": "https://localhost:8080/"
        },
        "id": "WqdlCAyDpYWO",
        "outputId": "c9a306bb-1ab2-4e85-95a8-ce96a807e42d"
      },
      "execution_count": 3,
      "outputs": [
        {
          "output_type": "execute_result",
          "data": {
            "text/plain": [
              "[<p>a</p>, <p>b</p>, <p>c</p>]"
            ]
          },
          "metadata": {},
          "execution_count": 3
        }
      ]
    },
    {
      "cell_type": "code",
      "source": [
        "for ptag in ps:\n",
        "  print(ptag)"
      ],
      "metadata": {
        "colab": {
          "base_uri": "https://localhost:8080/"
        },
        "id": "MOCQ-V-4pwsQ",
        "outputId": "73e202d8-61b3-43bb-ee36-5fc63594dc09"
      },
      "execution_count": 4,
      "outputs": [
        {
          "output_type": "stream",
          "name": "stdout",
          "text": [
            "<p>a</p>\n",
            "<p>b</p>\n",
            "<p>c</p>\n"
          ]
        }
      ]
    },
    {
      "cell_type": "code",
      "source": [
        "ps[1]"
      ],
      "metadata": {
        "colab": {
          "base_uri": "https://localhost:8080/"
        },
        "id": "_1_fkpdLp7yi",
        "outputId": "3972d897-1508-404a-e85d-05b435bd67a7"
      },
      "execution_count": 5,
      "outputs": [
        {
          "output_type": "execute_result",
          "data": {
            "text/plain": [
              "<p>b</p>"
            ]
          },
          "metadata": {},
          "execution_count": 5
        }
      ]
    },
    {
      "cell_type": "code",
      "source": [
        "# class 명이 ex_class인 태그의 정보를 가져오기\n",
        "second_div=soup.select_one('.ex_class')\n",
        "second_div"
      ],
      "metadata": {
        "id": "vJT2pFEQqPsa"
      },
      "execution_count": 17,
      "outputs": []
    },
    {
      "cell_type": "code",
      "source": [
        "#id 값이 ex_id인 태그의 정보를 가져오기\n",
        "third_div=soup.select_one('#ed_id')\n",
        "third_div"
      ],
      "metadata": {
        "id": "W9c6Lww2rH-6"
      },
      "execution_count": 14,
      "outputs": []
    },
    {
      "cell_type": "code",
      "source": [
        "all_div=soup.select('div')\n",
        "len(all_div)"
      ],
      "metadata": {
        "colab": {
          "base_uri": "https://localhost:8080/"
        },
        "id": "6cwCAEserXl_",
        "outputId": "58082c0d-2d96-4daa-8062-06e021d76387"
      },
      "execution_count": 15,
      "outputs": [
        {
          "output_type": "execute_result",
          "data": {
            "text/plain": [
              "3"
            ]
          },
          "metadata": {},
          "execution_count": 15
        }
      ]
    },
    {
      "cell_type": "code",
      "source": [
        "all_divs=soup.select('div')\n",
        "len(all_divs)"
      ],
      "metadata": {
        "colab": {
          "base_uri": "https://localhost:8080/"
        },
        "id": "deL6XGI_reZV",
        "outputId": "a553d080-2daf-4d0f-f29d-56f9f894cc29"
      },
      "execution_count": 18,
      "outputs": [
        {
          "output_type": "execute_result",
          "data": {
            "text/plain": [
              "3"
            ]
          },
          "metadata": {},
          "execution_count": 18
        }
      ]
    },
    {
      "cell_type": "code",
      "source": [
        "#모든 p 태그\n",
        "all_ps=soup.find_all('p')\n",
        "len(all_ps)"
      ],
      "metadata": {
        "colab": {
          "base_uri": "https://localhost:8080/"
        },
        "id": "3dhVh6dYsLER",
        "outputId": "39832b1d-f73c-4cb6-d9ec-771896781ae8"
      },
      "execution_count": 19,
      "outputs": [
        {
          "output_type": "execute_result",
          "data": {
            "text/plain": [
              "11"
            ]
          },
          "metadata": {},
          "execution_count": 19
        }
      ]
    },
    {
      "cell_type": "code",
      "source": [
        "#div 자식관계\n",
        "div_ps=soup.select('div p')\n",
        "len(div_ps)"
      ],
      "metadata": {
        "colab": {
          "base_uri": "https://localhost:8080/"
        },
        "id": "qGWDDShssTl-",
        "outputId": "025a7a6f-b3bc-440a-a2fb-8f1a80f0cc61"
      },
      "execution_count": 21,
      "outputs": [
        {
          "output_type": "execute_result",
          "data": {
            "text/plain": [
              "9"
            ]
          },
          "metadata": {},
          "execution_count": 21
        }
      ]
    },
    {
      "cell_type": "code",
      "source": [
        "h1_info=soup.find('h1').get_text()\n",
        "h1_info"
      ],
      "metadata": {
        "colab": {
          "base_uri": "https://localhost:8080/",
          "height": 36
        },
        "id": "1ReVuMiWstOr",
        "outputId": "83db6978-eac6-4fd1-e8ac-81154ffb734e"
      },
      "execution_count": 22,
      "outputs": [
        {
          "output_type": "execute_result",
          "data": {
            "text/plain": [
              "'This is a heading'"
            ],
            "application/vnd.google.colaboratory.intrinsic+json": {
              "type": "string"
            }
          },
          "metadata": {},
          "execution_count": 22
        }
      ]
    },
    {
      "cell_type": "code",
      "source": [
        "first_div.string"
      ],
      "metadata": {
        "id": "BV9RDuIatMX1"
      },
      "execution_count": 24,
      "outputs": []
    },
    {
      "cell_type": "code",
      "source": [
        "soup.find('a').get_text()"
      ],
      "metadata": {
        "colab": {
          "base_uri": "https://localhost:8080/",
          "height": 36
        },
        "id": "Qto45DHWtZDb",
        "outputId": "4b2392d7-a8e3-45df-b167-c3bd3a7f27f7"
      },
      "execution_count": 25,
      "outputs": [
        {
          "output_type": "execute_result",
          "data": {
            "text/plain": [
              "'\\n        Naver'"
            ],
            "application/vnd.google.colaboratory.intrinsic+json": {
              "type": "string"
            }
          },
          "metadata": {},
          "execution_count": 25
        }
      ]
    },
    {
      "cell_type": "code",
      "source": [
        "#속성값\n",
        "soup.find('a')['href']"
      ],
      "metadata": {
        "colab": {
          "base_uri": "https://localhost:8080/",
          "height": 36
        },
        "id": "Ip2sjiqUtp__",
        "outputId": "e45007c3-6f1e-4db9-ac57-e5e716325a73"
      },
      "execution_count": 26,
      "outputs": [
        {
          "output_type": "execute_result",
          "data": {
            "text/plain": [
              "'www.naver.com'"
            ],
            "application/vnd.google.colaboratory.intrinsic+json": {
              "type": "string"
            }
          },
          "metadata": {},
          "execution_count": 26
        }
      ]
    }
  ]
}